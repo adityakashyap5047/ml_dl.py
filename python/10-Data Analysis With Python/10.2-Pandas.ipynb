{
 "cells": [
  {
   "cell_type": "code",
   "execution_count": 2,
   "metadata": {},
   "outputs": [
    {
     "name": "stdout",
     "output_type": "stream",
     "text": [
      "Collecting pandas\n",
      "  Downloading pandas-2.2.3-cp310-cp310-win_amd64.whl.metadata (19 kB)\n",
      "Requirement already satisfied: numpy>=1.22.4 in c:\\users\\adity\\desktop\\udemy ml dl\\venv\\lib\\site-packages (from pandas) (2.2.2)\n",
      "Requirement already satisfied: python-dateutil>=2.8.2 in c:\\users\\adity\\desktop\\udemy ml dl\\venv\\lib\\site-packages (from pandas) (2.9.0.post0)\n",
      "Collecting pytz>=2020.1 (from pandas)\n",
      "  Downloading pytz-2025.1-py2.py3-none-any.whl.metadata (22 kB)\n",
      "Collecting tzdata>=2022.7 (from pandas)\n",
      "  Using cached tzdata-2025.1-py2.py3-none-any.whl.metadata (1.4 kB)\n",
      "Requirement already satisfied: six>=1.5 in c:\\users\\adity\\desktop\\udemy ml dl\\venv\\lib\\site-packages (from python-dateutil>=2.8.2->pandas) (1.17.0)\n",
      "Downloading pandas-2.2.3-cp310-cp310-win_amd64.whl (11.6 MB)\n",
      "   ---------------------------------------- 0.0/11.6 MB ? eta -:--:--\n",
      "    --------------------------------------- 0.3/11.6 MB ? eta -:--:--\n",
      "   - -------------------------------------- 0.5/11.6 MB 1.5 MB/s eta 0:00:08\n",
      "   --- ------------------------------------ 1.0/11.6 MB 1.7 MB/s eta 0:00:07\n",
      "   ---- ----------------------------------- 1.3/11.6 MB 1.8 MB/s eta 0:00:06\n",
      "   ------ --------------------------------- 1.8/11.6 MB 1.9 MB/s eta 0:00:06\n",
      "   -------- ------------------------------- 2.4/11.6 MB 1.9 MB/s eta 0:00:05\n",
      "   --------- ------------------------------ 2.9/11.6 MB 2.0 MB/s eta 0:00:05\n",
      "   ----------- ---------------------------- 3.4/11.6 MB 2.1 MB/s eta 0:00:04\n",
      "   ------------- -------------------------- 3.9/11.6 MB 2.1 MB/s eta 0:00:04\n",
      "   --------------- ------------------------ 4.5/11.6 MB 2.2 MB/s eta 0:00:04\n",
      "   ----------------- ---------------------- 5.0/11.6 MB 2.2 MB/s eta 0:00:03\n",
      "   ------------------ --------------------- 5.2/11.6 MB 2.2 MB/s eta 0:00:03\n",
      "   ------------------- -------------------- 5.8/11.6 MB 2.1 MB/s eta 0:00:03\n",
      "   -------------------- ------------------- 6.0/11.6 MB 2.1 MB/s eta 0:00:03\n",
      "   ---------------------- ----------------- 6.6/11.6 MB 2.1 MB/s eta 0:00:03\n",
      "   ------------------------- -------------- 7.3/11.6 MB 2.2 MB/s eta 0:00:02\n",
      "   -------------------------- ------------- 7.6/11.6 MB 2.2 MB/s eta 0:00:02\n",
      "   ---------------------------- ----------- 8.4/11.6 MB 2.2 MB/s eta 0:00:02\n",
      "   ------------------------------ --------- 8.9/11.6 MB 2.2 MB/s eta 0:00:02\n",
      "   -------------------------------- ------- 9.4/11.6 MB 2.2 MB/s eta 0:00:01\n",
      "   ---------------------------------- ----- 10.0/11.6 MB 2.2 MB/s eta 0:00:01\n",
      "   ------------------------------------ --- 10.5/11.6 MB 2.3 MB/s eta 0:00:01\n",
      "   ------------------------------------- -- 11.0/11.6 MB 2.2 MB/s eta 0:00:01\n",
      "   -------------------------------------- - 11.3/11.6 MB 2.2 MB/s eta 0:00:01\n",
      "   ---------------------------------------  11.5/11.6 MB 2.2 MB/s eta 0:00:01\n",
      "   ---------------------------------------- 11.6/11.6 MB 2.1 MB/s eta 0:00:00\n",
      "Downloading pytz-2025.1-py2.py3-none-any.whl (507 kB)\n",
      "Using cached tzdata-2025.1-py2.py3-none-any.whl (346 kB)\n",
      "Installing collected packages: pytz, tzdata, pandas\n",
      "Successfully installed pandas-2.2.3 pytz-2025.1 tzdata-2025.1\n"
     ]
    }
   ],
   "source": [
    "!pip install pandas"
   ]
  },
  {
   "cell_type": "code",
   "execution_count": 15,
   "metadata": {},
   "outputs": [],
   "source": [
    "import pandas as pd\n",
    "import numpy as np"
   ]
  },
  {
   "cell_type": "code",
   "execution_count": 6,
   "metadata": {},
   "outputs": [
    {
     "name": "stdout",
     "output_type": "stream",
     "text": [
      "Series \n",
      " 0    1\n",
      "1    2\n",
      "2    3\n",
      "3    4\n",
      "4    5\n",
      "dtype: int64\n",
      "<class 'pandas.core.series.Series'>\n"
     ]
    }
   ],
   "source": [
    "## Series - A Pandas Series is a one-dimensional array-like object that can hold any data type. \n",
    "# It is similar to a column in a table.\n",
    "\n",
    "data = [1, 2, 3, 4, 5]\n",
    "series = pd.Series(data)\n",
    "print(\"Series \\n\", series)\n",
    "print(type(series))"
   ]
  },
  {
   "cell_type": "code",
   "execution_count": 9,
   "metadata": {},
   "outputs": [
    {
     "name": "stdout",
     "output_type": "stream",
     "text": [
      "Series using dictionary\n",
      " a    1\n",
      "b    2\n",
      "c    3\n",
      "dtype: int64\n",
      "Series using Keys\n",
      " 0    a\n",
      "1    b\n",
      "2    c\n",
      "dtype: object\n",
      "Series using Values\n",
      " 0    1\n",
      "1    2\n",
      "2    3\n",
      "dtype: int64\n"
     ]
    }
   ],
   "source": [
    "## Series from dictionary\n",
    "data = {'a': 1, 'b': 2, 'c': 3}\n",
    "series_dict = pd.Series(data)\n",
    "print(\"Series using dictionary\\n\", series_dict)\n",
    "series_keys = pd.Series(data.keys())\n",
    "print(\"Series using Keys\\n\", series_keys)\n",
    "series_values = pd.Series(data.values())\n",
    "print(\"Series using Values\\n\", series_values)"
   ]
  },
  {
   "cell_type": "code",
   "execution_count": 10,
   "metadata": {},
   "outputs": [
    {
     "data": {
      "text/plain": [
       "a    10\n",
       "b    20\n",
       "c    30\n",
       "dtype: int64"
      ]
     },
     "execution_count": 10,
     "metadata": {},
     "output_type": "execute_result"
    }
   ],
   "source": [
    "# reindexing\n",
    "\n",
    "data = [10, 20, 30]\n",
    "index = ['a', 'b',  'c']\n",
    "\n",
    "pd.Series(data, index=index)"
   ]
  },
  {
   "cell_type": "code",
   "execution_count": 14,
   "metadata": {},
   "outputs": [
    {
     "name": "stdout",
     "output_type": "stream",
     "text": [
      "      Name  Age       City\n",
      "0     Adam   25      Delhi\n",
      "1      Bob   21  Bangalore\n",
      "2  Charlie   24     Mumbai\n",
      "<class 'pandas.core.frame.DataFrame'>\n"
     ]
    }
   ],
   "source": [
    "## Dataframe\n",
    "## Create a Dataframe from a dictionary of list\n",
    "\n",
    "data = {\n",
    "    'Name': [\"Adam\", \"Bob\", \"Charlie\"],\n",
    "    'Age': [25, 21, 24],\n",
    "    'City': ['Delhi', 'Bangalore', 'Mumbai']\n",
    "}\n",
    "\n",
    "df = pd.DataFrame(data)\n",
    "print(df)\n",
    "print(type(df))"
   ]
  },
  {
   "cell_type": "code",
   "execution_count": 16,
   "metadata": {},
   "outputs": [
    {
     "data": {
      "text/plain": [
       "array([['Adam', 25, 'Delhi'],\n",
       "       ['Bob', 21, 'Bangalore'],\n",
       "       ['Charlie', 24, 'Mumbai']], dtype=object)"
      ]
     },
     "execution_count": 16,
     "metadata": {},
     "output_type": "execute_result"
    }
   ],
   "source": [
    "np.array(df)"
   ]
  },
  {
   "cell_type": "code",
   "execution_count": 18,
   "metadata": {},
   "outputs": [],
   "source": [
    "# Create a list of Dictionary\n",
    "\n",
    "data = [\n",
    "    {'Name': \"Adam\", 'Age': 25, 'City': 'Delhi'},\n",
    "    {'Name': \"Bob\", 'Age': 21, 'City': 'Banglore'},\n",
    "    {'Name': \"Charlie\", 'Age': 24, 'City': 'Mumbai'}\n",
    "]"
   ]
  },
  {
   "cell_type": "code",
   "execution_count": 19,
   "metadata": {},
   "outputs": [
    {
     "name": "stdout",
     "output_type": "stream",
     "text": [
      "      Name  Age      City\n",
      "0     Adam   25     Delhi\n",
      "1      Bob   21  Banglore\n",
      "2  Charlie   24    Mumbai\n"
     ]
    }
   ],
   "source": [
    "df = pd.DataFrame(data)\n",
    "print(df)"
   ]
  },
  {
   "cell_type": "code",
   "execution_count": null,
   "metadata": {},
   "outputs": [],
   "source": []
  }
 ],
 "metadata": {
  "kernelspec": {
   "display_name": "Python 3",
   "language": "python",
   "name": "python3"
  },
  "language_info": {
   "codemirror_mode": {
    "name": "ipython",
    "version": 3
   },
   "file_extension": ".py",
   "mimetype": "text/x-python",
   "name": "python",
   "nbconvert_exporter": "python",
   "pygments_lexer": "ipython3",
   "version": "3.10.16"
  }
 },
 "nbformat": 4,
 "nbformat_minor": 2
}
