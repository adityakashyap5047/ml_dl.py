{
 "cells": [
  {
   "cell_type": "code",
   "execution_count": 3,
   "metadata": {},
   "outputs": [],
   "source": [
    "def square(n):\n",
    "    for i in range(3):\n",
    "        yield i**2"
   ]
  },
  {
   "cell_type": "code",
   "execution_count": 4,
   "metadata": {},
   "outputs": [
    {
     "data": {
      "text/plain": [
       "<generator object square at 0x0000026DA04D46D0>"
      ]
     },
     "execution_count": 4,
     "metadata": {},
     "output_type": "execute_result"
    }
   ],
   "source": [
    "square(3)"
   ]
  },
  {
   "cell_type": "code",
   "execution_count": 6,
   "metadata": {},
   "outputs": [
    {
     "name": "stdout",
     "output_type": "stream",
     "text": [
      "0\n",
      "1\n",
      "4\n"
     ]
    }
   ],
   "source": [
    "for i in square(3):\n",
    "    print(i)"
   ]
  },
  {
   "cell_type": "code",
   "execution_count": 13,
   "metadata": {},
   "outputs": [],
   "source": [
    "a = square(4)"
   ]
  },
  {
   "cell_type": "code",
   "execution_count": 14,
   "metadata": {},
   "outputs": [
    {
     "data": {
      "text/plain": [
       "0"
      ]
     },
     "execution_count": 14,
     "metadata": {},
     "output_type": "execute_result"
    }
   ],
   "source": [
    "next(a)"
   ]
  },
  {
   "cell_type": "code",
   "execution_count": 15,
   "metadata": {},
   "outputs": [],
   "source": [
    "def my_generator():\n",
    "    yield 1\n",
    "    yield 2\n",
    "    yield 3\n",
    "    yield 9"
   ]
  },
  {
   "cell_type": "code",
   "execution_count": 24,
   "metadata": {},
   "outputs": [],
   "source": [
    "gen = my_generator()"
   ]
  },
  {
   "cell_type": "code",
   "execution_count": 26,
   "metadata": {},
   "outputs": [
    {
     "ename": "StopIteration",
     "evalue": "",
     "output_type": "error",
     "traceback": [
      "\u001b[1;31m---------------------------------------------------------------------------\u001b[0m",
      "\u001b[1;31mStopIteration\u001b[0m                             Traceback (most recent call last)",
      "Cell \u001b[1;32mIn[26], line 1\u001b[0m\n\u001b[1;32m----> 1\u001b[0m \u001b[38;5;28;43mnext\u001b[39;49m\u001b[43m(\u001b[49m\u001b[43mgen\u001b[49m\u001b[43m)\u001b[49m\n",
      "\u001b[1;31mStopIteration\u001b[0m: "
     ]
    }
   ],
   "source": [
    "next(gen)"
   ]
  },
  {
   "cell_type": "code",
   "execution_count": 25,
   "metadata": {},
   "outputs": [
    {
     "name": "stdout",
     "output_type": "stream",
     "text": [
      "1\n",
      "2\n",
      "3\n",
      "9\n"
     ]
    }
   ],
   "source": [
    "for val in gen:\n",
    "    print(val)"
   ]
  },
  {
   "cell_type": "code",
   "execution_count": 30,
   "metadata": {},
   "outputs": [],
   "source": [
    "### Practical : Reading large file\n",
    "\n",
    "def read_large_file(file_path):\n",
    "    with open(file_path, 'r') as file:\n",
    "        for line in file:\n",
    "            yield line"
   ]
  },
  {
   "cell_type": "code",
   "execution_count": 31,
   "metadata": {},
   "outputs": [
    {
     "name": "stdout",
     "output_type": "stream",
     "text": [
      "Lorem ipsum dolor sit amet consectetur adipisicing elit. Possimus veniam ratione, aspernatur\n",
      "architecto obcaecati ipsam libero doloribus laboriosam, non, voluptatem porro sed tempora ducimus!\n",
      "Reiciendis quos unde omnis, consectetur, voluptatum ipsam iusto labore hic reprehenderit at magnam\n",
      "rem ut, ratione voluptatem animi facere? Ducimus necessitatibus officiis voluptates, laborum,\n",
      "similique aperiam adipisci quo dolorem amet at quaerat itaque deleniti nostrum. Soluta, aliquid\n",
      "eius voluptates voluptatum eos esse ipsam dolorum aperiam quidem alias sapiente possimus dolores\n",
      "illum perferendis voluptate adipisci dicta nesciunt! Ab, neque nemo. Doloribus odio velit illum\n",
      "atque, fugit expedita. In pariatur provident totam voluptas dignissimos eligendi deleniti dicta\n",
      "sequi, repellendus soluta, ex corrupti porro molestiae facere animi praesentium hic tenetur at dolores\n",
      "blanditiis? Nostrum dolorem maxime impedit possimus, tempora ipsam voluptatibus accusantium et ducimus vitae\n",
      "molestias soluta quos, eos enim itaque magnam fugit labore aliquam sit perspiciatis asperiores veniam? Ad\n",
      "repellat quis autem! Aperiam tempora laudantium dolorum doloribus. Eveniet voluptate aut repudiandae\n",
      "expedita deserunt, assumenda et sequi suscipit quo, deleniti quae libero odio, at cupiditate. Placeat eius\n",
      "laborum nisi voluptatum assumenda! Odio laborum repellendus quod voluptate accusantium inventore ratione\n",
      "ipsum consequuntur amet consequatur ut, architecto beatae optio ullam minima sapiente, esse ad delectus\n",
      "alias perferendis corporis sit. Aspernatur omnis at officia deserunt nostrum eveniet sequi animi culpa\n",
      "laboriosam pariatur, quasi accusantium cupiditate illum recusandae est amet dolorem provident quisquam\n"
     ]
    }
   ],
   "source": [
    "file_path = 'large_file.txt'\n",
    "\n",
    "for line in read_large_file(file_path):\n",
    "    print(line.strip())"
   ]
  },
  {
   "cell_type": "markdown",
   "metadata": {},
   "source": [
    "### Difference between iterator and generator\n",
    "\n",
    "    1. iterator uses iter keyword\n",
    "       generator is used along with the function and used yield keyword\n"
   ]
  }
 ],
 "metadata": {
  "kernelspec": {
   "display_name": "Python 3",
   "language": "python",
   "name": "python3"
  },
  "language_info": {
   "codemirror_mode": {
    "name": "ipython",
    "version": 3
   },
   "file_extension": ".py",
   "mimetype": "text/x-python",
   "name": "python",
   "nbconvert_exporter": "python",
   "pygments_lexer": "ipython3",
   "version": "3.10.16"
  }
 },
 "nbformat": 4,
 "nbformat_minor": 2
}
