{
 "cells": [
  {
   "cell_type": "code",
   "execution_count": 2,
   "metadata": {},
   "outputs": [
    {
     "name": "stdout",
     "output_type": "stream",
     "text": [
      "2\n"
     ]
    }
   ],
   "source": [
    "import sys\n",
    "\n",
    "a = []\n",
    "print(sys.getrefcount(a))   # (one reference from 'a' and one from getrefcount())"
   ]
  },
  {
   "cell_type": "code",
   "execution_count": 4,
   "metadata": {},
   "outputs": [
    {
     "name": "stdout",
     "output_type": "stream",
     "text": [
      "3\n"
     ]
    }
   ],
   "source": [
    "b = a\n",
    "print(sys.getrefcount(b))   # (one reference from 'b', one from 'a' and one from getrefcount())"
   ]
  },
  {
   "cell_type": "code",
   "execution_count": 5,
   "metadata": {},
   "outputs": [
    {
     "name": "stdout",
     "output_type": "stream",
     "text": [
      "3\n"
     ]
    }
   ],
   "source": [
    "print(sys.getrefcount(a))"
   ]
  },
  {
   "cell_type": "code",
   "execution_count": 6,
   "metadata": {},
   "outputs": [
    {
     "ename": "NameError",
     "evalue": "name 'b' is not defined",
     "output_type": "error",
     "traceback": [
      "\u001b[1;31m---------------------------------------------------------------------------\u001b[0m",
      "\u001b[1;31mNameError\u001b[0m                                 Traceback (most recent call last)",
      "Cell \u001b[1;32mIn[6], line 2\u001b[0m\n\u001b[0;32m      1\u001b[0m \u001b[38;5;28;01mdel\u001b[39;00m b\n\u001b[1;32m----> 2\u001b[0m \u001b[38;5;28mprint\u001b[39m(sys\u001b[38;5;241m.\u001b[39mgetrefcount(\u001b[43mb\u001b[49m))\n",
      "\u001b[1;31mNameError\u001b[0m: name 'b' is not defined"
     ]
    }
   ],
   "source": [
    "del b\n",
    "print(sys.getrefcount(b))"
   ]
  },
  {
   "cell_type": "code",
   "execution_count": 7,
   "metadata": {},
   "outputs": [
    {
     "name": "stdout",
     "output_type": "stream",
     "text": [
      "2\n"
     ]
    }
   ],
   "source": [
    "print(sys.getrefcount(a))"
   ]
  },
  {
   "cell_type": "code",
   "execution_count": 8,
   "metadata": {},
   "outputs": [],
   "source": [
    "### Garbage Collection\n",
    "\n",
    "import gc\n",
    "\n",
    "## Enable garbage collection\n",
    "gc.enable()"
   ]
  },
  {
   "cell_type": "code",
   "execution_count": 9,
   "metadata": {},
   "outputs": [],
   "source": [
    "gc.disable()"
   ]
  },
  {
   "cell_type": "code",
   "execution_count": 10,
   "metadata": {},
   "outputs": [
    {
     "data": {
      "text/plain": [
       "565"
      ]
     },
     "execution_count": 10,
     "metadata": {},
     "output_type": "execute_result"
    }
   ],
   "source": [
    "gc.collect()"
   ]
  },
  {
   "cell_type": "code",
   "execution_count": 11,
   "metadata": {},
   "outputs": [
    {
     "name": "stdout",
     "output_type": "stream",
     "text": [
      "[{'collections': 235, 'collected': 1931, 'uncollectable': 0}, {'collections': 21, 'collected': 508, 'uncollectable': 0}, {'collections': 2, 'collected': 593, 'uncollectable': 0}]\n"
     ]
    }
   ],
   "source": [
    "### Get garbage collection stats\n",
    "print(gc.get_stats())"
   ]
  },
  {
   "cell_type": "code",
   "execution_count": 12,
   "metadata": {},
   "outputs": [
    {
     "name": "stdout",
     "output_type": "stream",
     "text": [
      "[]\n"
     ]
    }
   ],
   "source": [
    "### Get unreachable objects\n",
    "print(gc.garbage)"
   ]
  },
  {
   "cell_type": "code",
   "execution_count": 14,
   "metadata": {},
   "outputs": [
    {
     "name": "stdout",
     "output_type": "stream",
     "text": [
      "Object: obj1 created\n",
      "Object: obj2 created\n",
      "Object obj1 deleted\n",
      "Object obj2 deleted\n"
     ]
    },
    {
     "data": {
      "text/plain": [
       "1417"
      ]
     },
     "execution_count": 14,
     "metadata": {},
     "output_type": "execute_result"
    }
   ],
   "source": [
    "### Memory Management\n",
    "import gc\n",
    "\n",
    "class MyObject:\n",
    "    def __init__(self, name):\n",
    "        self.name = name\n",
    "        print(f\"Object: {self.name} created\")\n",
    "\n",
    "    def __del__(self):\n",
    "        print(f\"Object {self.name} deleted\")\n",
    "\n",
    "### Cicular reference\n",
    "\n",
    "obj1 = MyObject(\"obj1\")\n",
    "obj2 = MyObject(\"obj2\")\n",
    "\n",
    "obj1.ref = obj2\n",
    "obj2.ref = obj1\n",
    "\n",
    "del obj1\n",
    "del obj2\n",
    "\n",
    "## Manually delete the garbage collection\n",
    "gc.collect()"
   ]
  },
  {
   "cell_type": "code",
   "execution_count": 15,
   "metadata": {},
   "outputs": [
    {
     "name": "stdout",
     "output_type": "stream",
     "text": [
      "0\n",
      "1\n",
      "2\n",
      "3\n",
      "4\n",
      "5\n",
      "6\n",
      "7\n",
      "8\n",
      "9\n",
      "10\n",
      "11\n"
     ]
    }
   ],
   "source": [
    "### Generators For memory Efficient\n",
    "def generate_numbers(n):\n",
    "    for i in range(n):\n",
    "        yield i\n",
    "\n",
    "## using the generator\n",
    "for num in generate_numbers(1000000):\n",
    "    print(num)\n",
    "    if num > 10:\n",
    "        break"
   ]
  },
  {
   "cell_type": "code",
   "execution_count": 17,
   "metadata": {},
   "outputs": [
    {
     "name": "stdout",
     "output_type": "stream",
     "text": [
      "[Top 10]\n",
      "C:\\Users\\adity\\AppData\\Local\\Temp\\ipykernel_20928\\3561723142.py:13: size=416 B, count=1, average=416 B\n",
      "C:\\Users\\adity\\AppData\\Local\\Temp\\ipykernel_20928\\3561723142.py:6: size=416 B, count=1, average=416 B\n"
     ]
    }
   ],
   "source": [
    "### Profiling memeory usage with tracemalloc\n",
    "\n",
    "import tracemalloc\n",
    "\n",
    "def create_list():\n",
    "    return [i for i in range(10000)]\n",
    "\n",
    "def main():\n",
    "    tracemalloc.start()\n",
    "\n",
    "    create_list()\n",
    "\n",
    "    snapshot = tracemalloc.take_snapshot()\n",
    "    top_stats = snapshot.statistics('lineno')\n",
    "\n",
    "    print(\"[Top 10]\")\n",
    "    for stat in top_stats[: 10]:\n",
    "        print(stat)\n",
    "\n",
    "main()"
   ]
  },
  {
   "cell_type": "code",
   "execution_count": 18,
   "metadata": {},
   "outputs": [
    {
     "name": "stdout",
     "output_type": "stream",
     "text": [
      "[Top 10]\n",
      "c:\\Users\\adity\\Desktop\\Udemy ML DL\\venv\\lib\\selectors.py:315: size=288 KiB, count=6, average=48.0 KiB\n",
      "c:\\Users\\adity\\Desktop\\Udemy ML DL\\venv\\lib\\site-packages\\IPython\\core\\compilerop.py:86: size=7076 B, count=107, average=66 B\n",
      "c:\\Users\\adity\\Desktop\\Udemy ML DL\\venv\\lib\\json\\decoder.py:353: size=1947 B, count=21, average=93 B\n",
      "c:\\Users\\adity\\Desktop\\Udemy ML DL\\venv\\lib\\codeop.py:118: size=1504 B, count=18, average=84 B\n",
      "c:\\Users\\adity\\Desktop\\Udemy ML DL\\venv\\lib\\site-packages\\traitlets\\traitlets.py:1514: size=1344 B, count=8, average=168 B\n",
      "c:\\Users\\adity\\Desktop\\Udemy ML DL\\venv\\lib\\tracemalloc.py:535: size=1240 B, count=3, average=413 B\n",
      "c:\\Users\\adity\\Desktop\\Udemy ML DL\\venv\\lib\\site-packages\\zmq\\sugar\\attrsettr.py:45: size=1100 B, count=20, average=55 B\n",
      "c:\\Users\\adity\\Desktop\\Udemy ML DL\\venv\\lib\\site-packages\\IPython\\core\\compilerop.py:174: size=1079 B, count=13, average=83 B\n",
      "c:\\Users\\adity\\Desktop\\Udemy ML DL\\venv\\lib\\site-packages\\zmq\\sugar\\socket.py:811: size=1056 B, count=6, average=176 B\n",
      "c:\\Users\\adity\\Desktop\\Udemy ML DL\\venv\\lib\\site-packages\\jupyter_client\\session.py:1057: size=1036 B, count=5, average=207 B\n",
      "c:\\Users\\adity\\Desktop\\Udemy ML DL\\venv\\lib\\site-packages\\traitlets\\traitlets.py:731: size=983 B, count=14, average=70 B\n",
      "c:\\Users\\adity\\Desktop\\Udemy ML DL\\venv\\lib\\tracemalloc.py:226: size=832 B, count=2, average=416 B\n",
      "c:\\Users\\adity\\Desktop\\Udemy ML DL\\venv\\lib\\tracemalloc.py:505: size=824 B, count=2, average=412 B\n",
      "c:\\Users\\adity\\Desktop\\Udemy ML DL\\venv\\lib\\tracemalloc.py:173: size=800 B, count=2, average=400 B\n",
      "c:\\Users\\adity\\Desktop\\Udemy ML DL\\venv\\lib\\site-packages\\IPython\\core\\interactiveshell.py:3382: size=708 B, count=2, average=354 B\n",
      "c:\\Users\\adity\\Desktop\\Udemy ML DL\\venv\\lib\\inspect.py:2401: size=632 B, count=1, average=632 B\n",
      "c:\\Users\\adity\\Desktop\\Udemy ML DL\\venv\\lib\\tracemalloc.py:533: size=568 B, count=1, average=568 B\n",
      "c:\\Users\\adity\\Desktop\\Udemy ML DL\\venv\\lib\\site-packages\\traitlets\\traitlets.py:1543: size=536 B, count=8, average=67 B\n",
      "c:\\Users\\adity\\Desktop\\Udemy ML DL\\venv\\lib\\threading.py:607: size=528 B, count=1, average=528 B\n",
      "C:\\Users\\adity\\AppData\\Local\\Temp\\ipykernel_20928\\8771101.py:18: size=528 B, count=1, average=528 B\n",
      "c:\\Users\\adity\\Desktop\\Udemy ML DL\\venv\\lib\\site-packages\\jupyter_client\\jsonutil.py:111: size=522 B, count=9, average=58 B\n",
      "c:\\Users\\adity\\Desktop\\Udemy ML DL\\venv\\lib\\site-packages\\zmq\\eventloop\\zmqstream.py:685: size=496 B, count=1, average=496 B\n",
      "c:\\Users\\adity\\Desktop\\Udemy ML DL\\venv\\lib\\site-packages\\zmq\\sugar\\socket.py:760: size=488 B, count=1, average=488 B\n",
      "c:\\Users\\adity\\Desktop\\Udemy ML DL\\venv\\lib\\site-packages\\zmq\\eventloop\\zmqstream.py:630: size=488 B, count=1, average=488 B\n",
      "C:\\Users\\adity\\AppData\\Local\\Temp\\ipykernel_20928\\3561723142.py:14: size=448 B, count=1, average=448 B\n",
      "C:\\Users\\adity\\AppData\\Local\\Temp\\ipykernel_20928\\3561723142.py:18: size=440 B, count=1, average=440 B\n",
      "c:\\Users\\adity\\Desktop\\Udemy ML DL\\venv\\lib\\tracemalloc.py:59: size=432 B, count=1, average=432 B\n",
      "c:\\Users\\adity\\Desktop\\Udemy ML DL\\venv\\lib\\tracemalloc.py:498: size=424 B, count=1, average=424 B\n",
      "c:\\Users\\adity\\Desktop\\Udemy ML DL\\venv\\lib\\tracemalloc.py:560: size=416 B, count=1, average=416 B\n",
      "c:\\Users\\adity\\Desktop\\Udemy ML DL\\venv\\lib\\tracemalloc.py:423: size=416 B, count=1, average=416 B\n",
      "C:\\Users\\adity\\AppData\\Local\\Temp\\ipykernel_20928\\8771101.py:11: size=416 B, count=1, average=416 B\n",
      "C:\\Users\\adity\\AppData\\Local\\Temp\\ipykernel_20928\\8771101.py:4: size=416 B, count=1, average=416 B\n",
      "c:\\Users\\adity\\Desktop\\Udemy ML DL\\venv\\lib\\tracemalloc.py:207: size=408 B, count=1, average=408 B\n",
      "c:\\Users\\adity\\Desktop\\Udemy ML DL\\venv\\lib\\tracemalloc.py:53: size=408 B, count=1, average=408 B\n",
      "C:\\Users\\adity\\AppData\\Local\\Temp\\ipykernel_20928\\8771101.py:9: size=400 B, count=1, average=400 B\n",
      "c:\\Users\\adity\\Desktop\\Udemy ML DL\\venv\\lib\\threading.py:255: size=368 B, count=2, average=184 B\n",
      "c:\\Users\\adity\\Desktop\\Udemy ML DL\\venv\\lib\\site-packages\\IPython\\core\\history.py:782: size=353 B, count=1, average=353 B\n",
      "c:\\Users\\adity\\Desktop\\Udemy ML DL\\venv\\lib\\site-packages\\tornado\\queues.py:248: size=336 B, count=2, average=168 B\n",
      "c:\\Users\\adity\\Desktop\\Udemy ML DL\\venv\\lib\\site-packages\\ipykernel\\iostream.py:346: size=336 B, count=2, average=168 B\n",
      "c:\\Users\\adity\\Desktop\\Udemy ML DL\\venv\\lib\\asyncio\\base_events.py:429: size=336 B, count=2, average=168 B\n",
      "c:\\Users\\adity\\Desktop\\Udemy ML DL\\venv\\lib\\site-packages\\jupyter_client\\session.py:1085: size=296 B, count=1, average=296 B\n",
      "c:\\Users\\adity\\Desktop\\Udemy ML DL\\venv\\lib\\site-packages\\jupyter_client\\jsonutil.py:75: size=296 B, count=1, average=296 B\n",
      "c:\\Users\\adity\\Desktop\\Udemy ML DL\\venv\\lib\\site-packages\\ipykernel\\kernelbase.py:770: size=296 B, count=1, average=296 B\n",
      "c:\\Users\\adity\\Desktop\\Udemy ML DL\\venv\\lib\\asyncio\\events.py:80: size=288 B, count=4, average=72 B\n",
      "c:\\Users\\adity\\Desktop\\Udemy ML DL\\venv\\lib\\asyncio\\base_events.py:773: size=288 B, count=3, average=96 B\n",
      "c:\\Users\\adity\\Desktop\\Udemy ML DL\\venv\\lib\\site-packages\\IPython\\core\\history.py:836: size=280 B, count=4, average=70 B\n",
      "c:\\Users\\adity\\Desktop\\Udemy ML DL\\venv\\lib\\site-packages\\ipykernel\\zmqshell.py:549: size=272 B, count=3, average=91 B\n",
      "c:\\Users\\adity\\Desktop\\Udemy ML DL\\venv\\lib\\site-packages\\IPython\\core\\interactiveshell.py:3106: size=232 B, count=4, average=58 B\n",
      "c:\\Users\\adity\\Desktop\\Udemy ML DL\\venv\\lib\\asyncio\\futures.py:416: size=200 B, count=5, average=40 B\n",
      "c:\\Users\\adity\\Desktop\\Udemy ML DL\\venv\\lib\\site-packages\\zmq\\sugar\\socket.py:808: size=176 B, count=1, average=176 B\n",
      "c:\\Users\\adity\\Desktop\\Udemy ML DL\\venv\\lib\\site-packages\\zmq\\eventloop\\zmqstream.py:642: size=168 B, count=1, average=168 B\n",
      "c:\\Users\\adity\\Desktop\\Udemy ML DL\\venv\\lib\\site-packages\\ipykernel\\iostream.py:287: size=168 B, count=1, average=168 B\n",
      "c:\\Users\\adity\\Desktop\\Udemy ML DL\\venv\\lib\\inspect.py:156: size=168 B, count=1, average=168 B\n",
      "c:\\Users\\adity\\Desktop\\Udemy ML DL\\venv\\lib\\site-packages\\ipykernel\\kernelbase.py:775: size=152 B, count=2, average=76 B\n",
      "c:\\Users\\adity\\Desktop\\Udemy ML DL\\venv\\lib\\site-packages\\tornado\\platform\\asyncio.py:235: size=144 B, count=2, average=72 B\n",
      "c:\\Users\\adity\\Desktop\\Udemy ML DL\\venv\\lib\\site-packages\\ipykernel\\iostream.py:722: size=144 B, count=2, average=72 B\n",
      "c:\\Users\\adity\\Desktop\\Udemy ML DL\\venv\\lib\\site-packages\\ipykernel\\kernelbase.py:570: size=144 B, count=1, average=144 B\n",
      "c:\\Users\\adity\\Desktop\\Udemy ML DL\\venv\\lib\\site-packages\\IPython\\core\\interactiveshell.py:3495: size=144 B, count=1, average=144 B\n",
      "c:\\Users\\adity\\Desktop\\Udemy ML DL\\venv\\lib\\site-packages\\IPython\\core\\interactiveshell.py:3239: size=144 B, count=1, average=144 B\n",
      "c:\\Users\\adity\\Desktop\\Udemy ML DL\\venv\\lib\\asyncio\\futures.py:392: size=144 B, count=1, average=144 B\n",
      "c:\\Users\\adity\\Desktop\\Udemy ML DL\\venv\\lib\\asyncio\\futures.py:385: size=144 B, count=1, average=144 B\n",
      "c:\\Users\\adity\\Desktop\\Udemy ML DL\\venv\\lib\\asyncio\\futures.py:379: size=144 B, count=1, average=144 B\n",
      "C:\\Users\\adity\\AppData\\Local\\Temp\\ipykernel_20928\\8771101.py:6: size=144 B, count=1, average=144 B\n",
      "C:\\Users\\adity\\AppData\\Local\\Temp\\ipykernel_20928\\8771101.py:3: size=144 B, count=1, average=144 B\n",
      "c:\\Users\\adity\\Desktop\\Udemy ML DL\\venv\\lib\\site-packages\\ipykernel\\iostream.py:527: size=136 B, count=2, average=68 B\n",
      "c:\\Users\\adity\\Desktop\\Udemy ML DL\\venv\\lib\\concurrent\\futures\\_base.py:332: size=128 B, count=2, average=64 B\n",
      "c:\\Users\\adity\\Desktop\\Udemy ML DL\\venv\\lib\\threading.py:101: size=120 B, count=2, average=60 B\n",
      "c:\\Users\\adity\\Desktop\\Udemy ML DL\\venv\\lib\\site-packages\\ipykernel\\kernelbase.py:545: size=112 B, count=1, average=112 B\n",
      "c:\\Users\\adity\\Desktop\\Udemy ML DL\\venv\\lib\\site-packages\\ipykernel\\kernelbase.py:534: size=112 B, count=1, average=112 B\n",
      "c:\\Users\\adity\\Desktop\\Udemy ML DL\\venv\\lib\\site-packages\\ipykernel\\kernelbase.py:435: size=112 B, count=1, average=112 B\n",
      "c:\\Users\\adity\\Desktop\\Udemy ML DL\\venv\\lib\\site-packages\\ipykernel\\ipkernel.py:362: size=112 B, count=1, average=112 B\n",
      "c:\\Users\\adity\\Desktop\\Udemy ML DL\\venv\\lib\\site-packages\\ipykernel\\iostream.py:121: size=112 B, count=1, average=112 B\n",
      "c:\\Users\\adity\\Desktop\\Udemy ML DL\\venv\\lib\\site-packages\\IPython\\core\\interactiveshell.py:3519: size=112 B, count=1, average=112 B\n",
      "c:\\Users\\adity\\Desktop\\Udemy ML DL\\venv\\lib\\site-packages\\IPython\\core\\interactiveshell.py:3336: size=112 B, count=1, average=112 B\n",
      "c:\\Users\\adity\\Desktop\\Udemy ML DL\\venv\\lib\\asyncio\\base_events.py:736: size=112 B, count=1, average=112 B\n",
      "c:\\Users\\adity\\Desktop\\Udemy ML DL\\venv\\lib\\site-packages\\jupyter_client\\session.py:989: size=111 B, count=2, average=56 B\n",
      "c:\\Users\\adity\\Desktop\\Udemy ML DL\\venv\\lib\\site-packages\\ipykernel\\compiler.py:91: size=109 B, count=1, average=109 B\n",
      "c:\\Users\\adity\\Desktop\\Udemy ML DL\\venv\\lib\\site-packages\\IPython\\core\\interactiveshell.py:3511: size=96 B, count=3, average=32 B\n",
      "c:\\Users\\adity\\Desktop\\Udemy ML DL\\venv\\lib\\threading.py:258: size=96 B, count=1, average=96 B\n",
      "c:\\Users\\adity\\Desktop\\Udemy ML DL\\venv\\lib\\threading.py:251: size=72 B, count=1, average=72 B\n",
      "c:\\Users\\adity\\Desktop\\Udemy ML DL\\venv\\lib\\threading.py:247: size=72 B, count=1, average=72 B\n",
      "c:\\Users\\adity\\Desktop\\Udemy ML DL\\venv\\lib\\threading.py:242: size=72 B, count=1, average=72 B\n",
      "c:\\Users\\adity\\Desktop\\Udemy ML DL\\venv\\lib\\threading.py:241: size=72 B, count=1, average=72 B\n",
      "c:\\Users\\adity\\Desktop\\Udemy ML DL\\venv\\lib\\site-packages\\IPython\\core\\history.py:851: size=72 B, count=1, average=72 B\n",
      "c:\\Users\\adity\\Desktop\\Udemy ML DL\\venv\\lib\\site-packages\\IPython\\core\\history.py:834: size=72 B, count=1, average=72 B\n",
      "c:\\Users\\adity\\Desktop\\Udemy ML DL\\venv\\lib\\threading.py:239: size=64 B, count=1, average=64 B\n",
      "c:\\Users\\adity\\Desktop\\Udemy ML DL\\venv\\lib\\site-packages\\zmq\\sugar\\socket.py:812: size=64 B, count=1, average=64 B\n",
      "c:\\Users\\adity\\Desktop\\Udemy ML DL\\venv\\lib\\site-packages\\ipykernel\\ipkernel.py:449: size=64 B, count=1, average=64 B\n",
      "c:\\Users\\adity\\Desktop\\Udemy ML DL\\venv\\lib\\site-packages\\ipykernel\\ipkernel.py:384: size=64 B, count=1, average=64 B\n",
      "c:\\Users\\adity\\Desktop\\Udemy ML DL\\venv\\lib\\site-packages\\ipykernel\\ipkernel.py:383: size=64 B, count=1, average=64 B\n",
      "c:\\Users\\adity\\Desktop\\Udemy ML DL\\venv\\lib\\site-packages\\ipykernel\\ipkernel.py:294: size=64 B, count=1, average=64 B\n",
      "c:\\Users\\adity\\Desktop\\Udemy ML DL\\venv\\lib\\site-packages\\ipykernel\\ipkernel.py:291: size=64 B, count=1, average=64 B\n",
      "c:\\Users\\adity\\Desktop\\Udemy ML DL\\venv\\lib\\site-packages\\decorator.py:232: size=64 B, count=1, average=64 B\n",
      "c:\\Users\\adity\\Desktop\\Udemy ML DL\\venv\\lib\\site-packages\\IPython\\core\\interactiveshell.py:3568: size=64 B, count=1, average=64 B\n",
      "c:\\Users\\adity\\Desktop\\Udemy ML DL\\venv\\lib\\site-packages\\IPython\\core\\interactiveshell.py:3305: size=64 B, count=1, average=64 B\n",
      "c:\\Users\\adity\\Desktop\\Udemy ML DL\\venv\\lib\\site-packages\\IPython\\core\\interactiveshell.py:3302: size=64 B, count=1, average=64 B\n",
      "c:\\Users\\adity\\Desktop\\Udemy ML DL\\venv\\lib\\site-packages\\ipykernel\\iostream.py:684: size=58 B, count=1, average=58 B\n",
      "c:\\Users\\adity\\Desktop\\Udemy ML DL\\venv\\lib\\site-packages\\tornado\\queues.py:318: size=56 B, count=2, average=28 B\n",
      "c:\\Users\\adity\\Desktop\\Udemy ML DL\\venv\\lib\\concurrent\\futures\\_base.py:336: size=56 B, count=1, average=56 B\n",
      "c:\\Users\\adity\\Desktop\\Udemy ML DL\\venv\\lib\\site-packages\\IPython\\core\\history.py:805: size=53 B, count=1, average=53 B\n",
      "c:\\Users\\adity\\Desktop\\Udemy ML DL\\venv\\lib\\site-packages\\jupyter_client\\session.py:200: size=48 B, count=1, average=48 B\n",
      "c:\\Users\\adity\\Desktop\\Udemy ML DL\\venv\\lib\\site-packages\\ipykernel\\kernelbase.py:318: size=48 B, count=1, average=48 B\n",
      "c:\\Users\\adity\\Desktop\\Udemy ML DL\\venv\\lib\\site-packages\\dateutil\\parser\\isoparser.py:146: size=48 B, count=1, average=48 B\n",
      "c:\\Users\\adity\\Desktop\\Udemy ML DL\\venv\\lib\\site-packages\\IPython\\core\\interactiveshell.py:3507: size=48 B, count=1, average=48 B\n",
      "c:\\Users\\adity\\Desktop\\Udemy ML DL\\venv\\lib\\site-packages\\IPython\\core\\interactiveshell.py:3226: size=48 B, count=1, average=48 B\n",
      "c:\\Users\\adity\\Desktop\\Udemy ML DL\\venv\\lib\\site-packages\\IPython\\core\\interactiveshell.py:3225: size=48 B, count=1, average=48 B\n",
      "c:\\Users\\adity\\Desktop\\Udemy ML DL\\venv\\lib\\site-packages\\IPython\\core\\history.py:835: size=48 B, count=1, average=48 B\n",
      "c:\\Users\\adity\\Desktop\\Udemy ML DL\\venv\\lib\\site-packages\\IPython\\core\\interactiveshell.py:259: size=40 B, count=1, average=40 B\n",
      "c:\\Users\\adity\\Desktop\\Udemy ML DL\\venv\\lib\\site-packages\\IPython\\core\\interactiveshell.py:3487: size=32 B, count=2, average=16 B\n",
      "c:\\Users\\adity\\Desktop\\Udemy ML DL\\venv\\lib\\site-packages\\jupyter_client\\session.py:996: size=32 B, count=1, average=32 B\n",
      "c:\\Users\\adity\\Desktop\\Udemy ML DL\\venv\\lib\\site-packages\\IPython\\core\\interactiveshell.py:3502: size=32 B, count=1, average=32 B\n",
      "c:\\Users\\adity\\Desktop\\Udemy ML DL\\venv\\lib\\site-packages\\IPython\\core\\history.py:793: size=32 B, count=1, average=32 B\n",
      "c:\\Users\\adity\\Desktop\\Udemy ML DL\\venv\\lib\\concurrent\\futures\\_base.py:423: size=32 B, count=1, average=32 B\n",
      "c:\\Users\\adity\\Desktop\\Udemy ML DL\\venv\\lib\\asyncio\\base_events.py:1893: size=32 B, count=1, average=32 B\n",
      "c:\\Users\\adity\\Desktop\\Udemy ML DL\\venv\\lib\\asyncio\\base_events.py:739: size=32 B, count=1, average=32 B\n",
      "c:\\Users\\adity\\Desktop\\Udemy ML DL\\venv\\lib\\site-packages\\jupyter_client\\session.py:603: size=28 B, count=1, average=28 B\n",
      "c:\\Users\\adity\\Desktop\\Udemy ML DL\\venv\\lib\\site-packages\\ipykernel\\kernelbase.py:560: size=28 B, count=1, average=28 B\n",
      "c:\\Users\\adity\\Desktop\\Udemy ML DL\\venv\\lib\\site-packages\\ipykernel\\iostream.py:637: size=28 B, count=1, average=28 B\n",
      "c:\\Users\\adity\\Desktop\\Udemy ML DL\\venv\\lib\\site-packages\\IPython\\core\\compilerop.py:192: size=28 B, count=1, average=28 B\n",
      "c:\\Users\\adity\\Desktop\\Udemy ML DL\\venv\\lib\\site-packages\\IPython\\core\\compilerop.py:172: size=28 B, count=1, average=28 B\n",
      "c:\\Users\\adity\\Desktop\\Udemy ML DL\\venv\\lib\\queue.py:151: size=28 B, count=1, average=28 B\n"
     ]
    }
   ],
   "source": [
    "import tracemalloc\n",
    "\n",
    "def create_list():\n",
    "    return [i for i in range(10000)]\n",
    "\n",
    "def main():\n",
    "    tracemalloc.start()\n",
    "\n",
    "    create_list()\n",
    "\n",
    "    snapshot = tracemalloc.take_snapshot()\n",
    "    top_stats = snapshot.statistics('lineno')\n",
    "\n",
    "    print(\"[Top 10]\")\n",
    "    for stat in top_stats[: :]:\n",
    "        print(stat)\n",
    "\n",
    "main()"
   ]
  },
  {
   "cell_type": "code",
   "execution_count": null,
   "metadata": {},
   "outputs": [],
   "source": []
  }
 ],
 "metadata": {
  "kernelspec": {
   "display_name": "Python 3",
   "language": "python",
   "name": "python3"
  },
  "language_info": {
   "codemirror_mode": {
    "name": "ipython",
    "version": 3
   },
   "file_extension": ".py",
   "mimetype": "text/x-python",
   "name": "python",
   "nbconvert_exporter": "python",
   "pygments_lexer": "ipython3",
   "version": "3.10.16"
  }
 },
 "nbformat": 4,
 "nbformat_minor": 2
}
