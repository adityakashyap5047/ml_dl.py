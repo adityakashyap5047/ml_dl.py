{
 "cells": [
  {
   "cell_type": "code",
   "execution_count": 1,
   "metadata": {},
   "outputs": [],
   "source": [
    "import sqlite3"
   ]
  },
  {
   "cell_type": "code",
   "execution_count": 2,
   "metadata": {},
   "outputs": [
    {
     "data": {
      "text/plain": [
       "<sqlite3.Connection at 0x1ee498f7e40>"
      ]
     },
     "execution_count": 2,
     "metadata": {},
     "output_type": "execute_result"
    }
   ],
   "source": [
    "## Connect to an SQLite database\n",
    "connection = sqlite3.connect(\"test.db\")\n",
    "connection"
   ]
  },
  {
   "cell_type": "code",
   "execution_count": 3,
   "metadata": {},
   "outputs": [],
   "source": [
    "cursor = connection.cursor()"
   ]
  },
  {
   "cell_type": "code",
   "execution_count": null,
   "metadata": {},
   "outputs": [],
   "source": [
    "## Create a table\n",
    "cursor.execute('''\n",
    "\n",
    "    Create Table If Not Exists employees(\n",
    "\n",
    "        id Integer Primary Key,\n",
    "        name Text Not Null,\n",
    "        age Integer,\n",
    "        department text\n",
    "    )\n",
    "\n",
    "''')\n",
    "\n",
    "## Commit the changes\n",
    "connection.commit()"
   ]
  },
  {
   "cell_type": "code",
   "execution_count": 5,
   "metadata": {},
   "outputs": [
    {
     "data": {
      "text/plain": [
       "<sqlite3.Cursor at 0x1ee4ab70940>"
      ]
     },
     "execution_count": 5,
     "metadata": {},
     "output_type": "execute_result"
    }
   ],
   "source": [
    "## Retrieve the data\n",
    "\n",
    "cursor.execute('''\n",
    "\n",
    "    Select * from employees\n",
    "\n",
    "''')"
   ]
  },
  {
   "cell_type": "code",
   "execution_count": 6,
   "metadata": {},
   "outputs": [],
   "source": [
    "# Insert the data in sqlite table\n",
    "\n",
    "cursor.execute('''\n",
    "\n",
    "    Insert Into employees (name, age, department) Values ('Adam', 21, 'Engineering')\n",
    "\n",
    "''')\n",
    "\n",
    "cursor.execute('''\n",
    "\n",
    "    Insert Into employees (name, age, department) Values ('Bob', 24, 'Data Scientist')\n",
    "\n",
    "''')\n",
    "\n",
    "cursor.execute('''\n",
    "\n",
    "    Insert Into employees (name, age, department) Values ('Charlie', 22, 'Finance')\n",
    "\n",
    "''')\n",
    "\n",
    "# Commit the changes\n",
    "connection.commit()"
   ]
  },
  {
   "cell_type": "code",
   "execution_count": 8,
   "metadata": {},
   "outputs": [
    {
     "name": "stdout",
     "output_type": "stream",
     "text": [
      "(1, 'Adam', 21, 'Engineering')\n",
      "(2, 'Bob', 24, 'Data Scientist')\n",
      "(3, 'Charlie', 22, 'Finance')\n"
     ]
    }
   ],
   "source": [
    "## Query the data from the tables\n",
    "\n",
    "cursor.execute('''\n",
    "\n",
    "    Select * from employees\n",
    "\n",
    "''')\n",
    "\n",
    "rows = cursor.fetchall()\n",
    "\n",
    "# print the queried data\n",
    "for row in rows:\n",
    "    print(row)"
   ]
  },
  {
   "cell_type": "code",
   "execution_count": 11,
   "metadata": {},
   "outputs": [],
   "source": [
    "## Update data in the table\n",
    "cursor.execute('''\n",
    "\n",
    "    Update employees Set age = 23 Where name = 'Charlie'\n",
    "\n",
    "''')\n",
    "\n",
    "connection.commit()"
   ]
  },
  {
   "cell_type": "code",
   "execution_count": 10,
   "metadata": {},
   "outputs": [
    {
     "name": "stdout",
     "output_type": "stream",
     "text": [
      "(1, 'Adam', 21, 'Engineering')\n",
      "(2, 'Bob', 24, 'Data Scientist')\n",
      "(3, 'Charlie', 23, 'Finance')\n"
     ]
    }
   ],
   "source": [
    "## Query the data from the tables\n",
    "\n",
    "cursor.execute('''\n",
    "\n",
    "    Select * from employees\n",
    "\n",
    "''')\n",
    "\n",
    "rows = cursor.fetchall()\n",
    "\n",
    "# print the queried data\n",
    "for row in rows:\n",
    "    print(row)"
   ]
  },
  {
   "cell_type": "code",
   "execution_count": 12,
   "metadata": {},
   "outputs": [],
   "source": [
    "## Delete the data from the table\n",
    "cursor.execute('''\n",
    "\n",
    "    Delete from employees Where name = 'Bob'\n",
    "\n",
    "''')\n",
    "\n",
    "connection.commit()"
   ]
  },
  {
   "cell_type": "code",
   "execution_count": 13,
   "metadata": {},
   "outputs": [
    {
     "name": "stdout",
     "output_type": "stream",
     "text": [
      "(1, 'Adam', 21, 'Engineering')\n",
      "(3, 'Charlie', 23, 'Finance')\n"
     ]
    }
   ],
   "source": [
    "## Query the data from the tables\n",
    "\n",
    "cursor.execute('''\n",
    "\n",
    "    Select * from employees\n",
    "\n",
    "''')\n",
    "\n",
    "rows = cursor.fetchall()\n",
    "\n",
    "# print the queried data\n",
    "for row in rows:\n",
    "    print(row)"
   ]
  },
  {
   "cell_type": "code",
   "execution_count": null,
   "metadata": {},
   "outputs": [],
   "source": []
  }
 ],
 "metadata": {
  "kernelspec": {
   "display_name": "Python 3",
   "language": "python",
   "name": "python3"
  },
  "language_info": {
   "codemirror_mode": {
    "name": "ipython",
    "version": 3
   },
   "file_extension": ".py",
   "mimetype": "text/x-python",
   "name": "python",
   "nbconvert_exporter": "python",
   "pygments_lexer": "ipython3",
   "version": "3.10.16"
  }
 },
 "nbformat": 4,
 "nbformat_minor": 2
}
