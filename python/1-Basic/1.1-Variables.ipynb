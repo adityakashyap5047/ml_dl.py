{
 "cells": [
  {
   "cell_type": "code",
   "execution_count": 1,
   "metadata": {},
   "outputs": [
    {
     "data": {
      "text/plain": [
       "100"
      ]
     },
     "execution_count": 1,
     "metadata": {},
     "output_type": "execute_result"
    }
   ],
   "source": [
    "a = 100\n",
    "a"
   ]
  },
  {
   "cell_type": "code",
   "execution_count": 2,
   "metadata": {},
   "outputs": [
    {
     "name": "stdout",
     "output_type": "stream",
     "text": [
      "age:  19\n",
      "height:  5.7\n",
      "name:  Aditya\n"
     ]
    }
   ],
   "source": [
    "## declaring and asignig the variable\n",
    "age = 19\n",
    "height = 5.7\n",
    "name = \"Aditya\"\n",
    "is_student = True\n",
    "\n",
    "# Printing the variable\n",
    "\n",
    "print(\"age: \", age)\n",
    "print(\"height: \", height)\n",
    "print(\"name: \", name)"
   ]
  },
  {
   "cell_type": "code",
   "execution_count": 3,
   "metadata": {},
   "outputs": [],
   "source": [
    "# Naming convention\n",
    "    \n",
    "# Varaible names should be descriptive\n",
    "# They must start with a letter or an '_' and contains letters, numbers and underscores\n",
    "# variable names are case sensitive\n",
    "\n",
    "# valid variable name\n",
    "\n",
    "first_name = \"Aditya\"\n",
    "last_name = \"Naik\""
   ]
  },
  {
   "cell_type": "code",
   "execution_count": null,
   "metadata": {},
   "outputs": [
    {
     "ename": "SyntaxError",
     "evalue": "invalid syntax. Maybe you meant '==' or ':=' instead of '='? (1590821001.py, line 5)",
     "output_type": "error",
     "traceback": [
      "\u001b[1;36m  Cell \u001b[1;32mIn[8], line 5\u001b[1;36m\u001b[0m\n\u001b[1;33m    @name=\"Aditya\" #SyntaxError: invalid syntax. Maybe you meant '==' or ':=' instead of '='?\u001b[0m\n\u001b[1;37m     ^\u001b[0m\n\u001b[1;31mSyntaxError\u001b[0m\u001b[1;31m:\u001b[0m invalid syntax. Maybe you meant '==' or ':=' instead of '='?\n"
     ]
    }
   ],
   "source": [
    "# Invalid variable name\n",
    "\n",
    "# 2age = 19   #SyntaxError: invalid decimal literal\n",
    "# first-name = \"Aditya\" #SyntaxError: cannot assign to expression here. Maybe you meant '==' instead of '='?\n",
    "# @name=\"Aditya\" #SyntaxError: invalid syntax. Maybe you meant '==' or ':=' instead of '='?"
   ]
  },
  {
   "cell_type": "code",
   "execution_count": 9,
   "metadata": {},
   "outputs": [
    {
     "data": {
      "text/plain": [
       "False"
      ]
     },
     "execution_count": 9,
     "metadata": {},
     "output_type": "execute_result"
    }
   ],
   "source": [
    "# Case sensitivity\n",
    "name = \"Aditya\"\n",
    "Name = \"kumar\"\n",
    "\n",
    "name==Name"
   ]
  },
  {
   "cell_type": "code",
   "execution_count": 10,
   "metadata": {},
   "outputs": [
    {
     "data": {
      "text/plain": [
       "bool"
      ]
     },
     "execution_count": 10,
     "metadata": {},
     "output_type": "execute_result"
    }
   ],
   "source": [
    "# Understanding variable types\n",
    "\n",
    "# Python is dynamically typed - Type  of a variable is determined at runtime\n",
    "age = 25 #int\n",
    "height = 5.9 # float\n",
    "name = \"Aditya\" # str\n",
    "is_student = True # bool\n",
    "\n",
    "type(is_student)"
   ]
  },
  {
   "cell_type": "code",
   "execution_count": null,
   "metadata": {},
   "outputs": [],
   "source": []
  }
 ],
 "metadata": {
  "kernelspec": {
   "display_name": "Python 3",
   "language": "python",
   "name": "python3"
  },
  "language_info": {
   "codemirror_mode": {
    "name": "ipython",
    "version": 3
   },
   "file_extension": ".py",
   "mimetype": "text/x-python",
   "name": "python",
   "nbconvert_exporter": "python",
   "pygments_lexer": "ipython3",
   "version": "3.10.16"
  }
 },
 "nbformat": 4,
 "nbformat_minor": 2
}
