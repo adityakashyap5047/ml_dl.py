{
 "cells": [
  {
   "cell_type": "code",
   "execution_count": null,
   "metadata": {},
   "outputs": [
    {
     "name": "stdout",
     "output_type": "stream",
     "text": [
      "You are allowed to vote in the elctions\n"
     ]
    }
   ],
   "source": [
    "## if statement -  it executes a block of code if the condition in the if statement is True\n",
    "\n",
    "age = 20\n",
    "\n",
    "if age >= 18:\n",
    "    print(\"You are allowed to vote in the elctions\")\n"
   ]
  },
  {
   "cell_type": "code",
   "execution_count": 2,
   "metadata": {},
   "outputs": [
    {
     "name": "stdout",
     "output_type": "stream",
     "text": [
      "You are not allowed to vote in the elctions\n"
     ]
    }
   ],
   "source": [
    "## else statement  - it executes a block of code if the condition in the if statement is False\n",
    "\n",
    "age = 16\n",
    "\n",
    "if age >= 18:\n",
    "    print(\"You are allowed to vote in the elctions\")\n",
    "else:\n",
    "    print(\"You are not allowed to vote in the elctions\")"
   ]
  },
  {
   "cell_type": "code",
   "execution_count": 3,
   "metadata": {},
   "outputs": [
    {
     "name": "stdout",
     "output_type": "stream",
     "text": [
      "You are an adult\n"
     ]
    }
   ],
   "source": [
    "## elif - The elif statement allows to check multiple conditions. It Stands for \"else if\"\n",
    "\n",
    "age = 20\n",
    "\n",
    "if age<13:\n",
    "    print(\"You are a child\")\n",
    "elif age<18:\n",
    "    print(\"You are a teenager\")\n",
    "else:\n",
    "    print(\"You are an adult\")"
   ]
  },
  {
   "cell_type": "code",
   "execution_count": null,
   "metadata": {},
   "outputs": [],
   "source": []
  }
 ],
 "metadata": {
  "kernelspec": {
   "display_name": "base",
   "language": "python",
   "name": "python3"
  },
  "language_info": {
   "codemirror_mode": {
    "name": "ipython",
    "version": 3
   },
   "file_extension": ".py",
   "mimetype": "text/x-python",
   "name": "python",
   "nbconvert_exporter": "python",
   "pygments_lexer": "ipython3",
   "version": "3.12.7"
  }
 },
 "nbformat": 4,
 "nbformat_minor": 2
}
