{
 "cells": [
  {
   "cell_type": "code",
   "execution_count": 1,
   "metadata": {},
   "outputs": [
    {
     "name": "stdout",
     "output_type": "stream",
     "text": [
      "<class 'dict'>\n"
     ]
    }
   ],
   "source": [
    "## Creating Dictionaries\n",
    "empty_dict = {}\n",
    "print(type(empty_dict))"
   ]
  },
  {
   "cell_type": "code",
   "execution_count": 2,
   "metadata": {},
   "outputs": [
    {
     "data": {
      "text/plain": [
       "{}"
      ]
     },
     "execution_count": 2,
     "metadata": {},
     "output_type": "execute_result"
    }
   ],
   "source": [
    "empty_dict = dict()\n",
    "empty_dict"
   ]
  },
  {
   "cell_type": "code",
   "execution_count": 3,
   "metadata": {},
   "outputs": [
    {
     "data": {
      "text/plain": [
       "{'name': 'Aditya', 'age': 19, 'height': 5.9}"
      ]
     },
     "execution_count": 3,
     "metadata": {},
     "output_type": "execute_result"
    }
   ],
   "source": [
    "# Dictionary\n",
    "student = {'name': \"Aditya\", 'age': 19, 'height': 5.9}\n",
    "student"
   ]
  },
  {
   "cell_type": "code",
   "execution_count": 4,
   "metadata": {},
   "outputs": [
    {
     "data": {
      "text/plain": [
       "{'name': 'aditya', 'age': 19, 'height': 5.9}"
      ]
     },
     "execution_count": 4,
     "metadata": {},
     "output_type": "execute_result"
    }
   ],
   "source": [
    "# Single key is alwars used\n",
    "student = {'name': \"Aditya\", 'age': 19, 'height': 5.9, 'name': 'aditya'}\n",
    "student"
   ]
  },
  {
   "cell_type": "code",
   "execution_count": 10,
   "metadata": {},
   "outputs": [
    {
     "name": "stdout",
     "output_type": "stream",
     "text": [
      "aditya\n",
      "19\n",
      "5.9\n",
      "None\n",
      "Not Availabe\n"
     ]
    }
   ],
   "source": [
    "# accessing dictionary elements\n",
    "print(student['name'])\n",
    "print(student['age'])\n",
    "\n",
    "## Accessing elements by get method\n",
    "print(student.get('height'))\n",
    "print(student.get('grade'))\n",
    "print(student.get('grade', \"Not Availabe\")) # Default value if element is not found"
   ]
  },
  {
   "cell_type": "code",
   "execution_count": 11,
   "metadata": {},
   "outputs": [
    {
     "name": "stdout",
     "output_type": "stream",
     "text": [
      "{'name': 'aditya', 'age': 19, 'height': 5.9}\n"
     ]
    }
   ],
   "source": [
    "## Modifying dictionary elements\n",
    "# Dictionary are mutable, so you can add, update or delete elements\n",
    "\n",
    "print(student)"
   ]
  },
  {
   "cell_type": "code",
   "execution_count": 18,
   "metadata": {},
   "outputs": [
    {
     "name": "stdout",
     "output_type": "stream",
     "text": [
      "19\n",
      "{'name': 'aditya', 'age': 19, 'height': 5.9, 'address': 'India'}\n",
      "{'name': 'aditya', 'age': 19, 'height': 5.9, 'address': 'India'}\n",
      "{'name': 'aditya', 'age': 19, 'address': 'India'}\n"
     ]
    }
   ],
   "source": [
    "print(student['age'])\n",
    "\n",
    "# add new key\n",
    "student['address'] = \"India\"\n",
    "print(student)\n",
    "\n",
    "# Update value\n",
    "student['name'] = 'aditya'\n",
    "print(student)\n",
    "\n",
    "# delete the key\n",
    "del student['height']\n",
    "print(student)"
   ]
  },
  {
   "cell_type": "code",
   "execution_count": null,
   "metadata": {},
   "outputs": [
    {
     "name": "stdout",
     "output_type": "stream",
     "text": [
      "dict_keys(['name', 'age', 'address'])\n",
      "dict_values(['aditya', 19, 'India'])\n",
      "dict_items([('name', 'aditya'), ('age', 19), ('address', 'India')])\n"
     ]
    }
   ],
   "source": [
    "# Dictionary methods\n",
    "\n",
    "keys = student.keys()\n",
    "print(keys)\n",
    "\n",
    "values = student.values()\n",
    "print(values)\n",
    "\n",
    "items = student.items()\n",
    "print(items)                # list of tuple"
   ]
  },
  {
   "cell_type": "code",
   "execution_count": 27,
   "metadata": {},
   "outputs": [
    {
     "name": "stdout",
     "output_type": "stream",
     "text": [
      "{'name': 'aditya', 'age': 19, 'address': 'India', 'grade': 'A'}\n",
      "{'name': 'aditya', 'age': 19, 'address': 'India', 'grade': 'A'}\n",
      "{'name': 'aditya', 'age': 19, 'address': 'India', 'grade': 'A'}\n",
      "{'name': 'aditya', 'age': 19, 'address': 'India', 'grade': 'A'}\n",
      "{'name': 'aditya', 'age': 19, 'address': 'India', 'grade': 'A'}\n",
      "{'name': 'aditya', 'age': 19, 'address': 'India', 'grade': 'A'}\n",
      "{'name': 'aditya', 'age': 19, 'address': 'India'}\n",
      "{'name': 'aditya', 'age': 19, 'address': 'India', 'grade': 'A'}\n"
     ]
    }
   ],
   "source": [
    "## Shallow copy\n",
    "student_copy = student\n",
    "print(student)\n",
    "print(student_copy)\n",
    "\n",
    "student_copy['grade'] = \"A\"\n",
    "print(student_copy)\n",
    "\n",
    "print(student)\n",
    "\n",
    "## Shallow copy\n",
    "student_copy1 = student.copy()\n",
    "print(student_copy1)\n",
    "print(student)\n",
    "\n",
    "del student_copy1['grade']\n",
    "print(student_copy1)\n",
    "print(student)"
   ]
  },
  {
   "cell_type": "code",
   "execution_count": 31,
   "metadata": {},
   "outputs": [
    {
     "name": "stdout",
     "output_type": "stream",
     "text": [
      "name\n",
      "age\n",
      "address\n",
      "grade\n",
      "aditya\n",
      "19\n",
      "India\n",
      "A\n",
      "name: aditya\n",
      "age: 19\n",
      "address: India\n",
      "grade: A\n"
     ]
    }
   ],
   "source": [
    "## Iterating over dictionaries\n",
    "\n",
    "# We can do this using loops to iterate over dictionaries, keys, values, items\n",
    "\n",
    "# Over keys\n",
    "for key in student.keys():\n",
    "    print(key)\n",
    "\n",
    "# Over values\n",
    "for value in student.values():\n",
    "    print(value)\n",
    "\n",
    "# Over key-value pair\n",
    "for key, value in student.items():\n",
    "    print(f\"{key}: {value}\")"
   ]
  },
  {
   "cell_type": "code",
   "execution_count": 33,
   "metadata": {},
   "outputs": [
    {
     "name": "stdout",
     "output_type": "stream",
     "text": [
      "{'student1': {'name': 'Aditya', 'age': 23}, 'student2': {'name': 'Bob', 'age': 21}}\n"
     ]
    }
   ],
   "source": [
    "# Nested Dictionary\n",
    "\n",
    "students = {\n",
    "    \"student1\": {\"name\": \"Aditya\", 'age': 23},\n",
    "    \"student2\": {\"name\": \"Bob\", 'age': 21}\n",
    "}\n",
    "\n",
    "print(students)"
   ]
  },
  {
   "cell_type": "code",
   "execution_count": 40,
   "metadata": {},
   "outputs": [
    {
     "name": "stdout",
     "output_type": "stream",
     "text": [
      "23\n"
     ]
    }
   ],
   "source": [
    "## access nested dictionaries elements\n",
    "\n",
    "print(students['student1']['age'])"
   ]
  },
  {
   "cell_type": "code",
   "execution_count": 45,
   "metadata": {},
   "outputs": [
    {
     "name": "stdout",
     "output_type": "stream",
     "text": [
      "student1: {'name': 'Aditya', 'age': 23}\n",
      "name:Aditya\n",
      "age:23\n",
      "student2: {'name': 'Bob', 'age': 21}\n",
      "name:Bob\n",
      "age:21\n"
     ]
    }
   ],
   "source": [
    "# Iterating over nested dictionary\n",
    "\n",
    "for student_id, student_info in students.items():\n",
    "    print(f\"{student_id}: {student_info}\")\n",
    "    for name, age in student_info.items():\n",
    "        print(f\"{name}:{age}\")"
   ]
  },
  {
   "cell_type": "code",
   "execution_count": 47,
   "metadata": {},
   "outputs": [
    {
     "data": {
      "text/plain": [
       "{0: 0, 1: 1, 2: 4, 3: 9, 4: 16}"
      ]
     },
     "execution_count": 47,
     "metadata": {},
     "output_type": "execute_result"
    }
   ],
   "source": [
    "## Dictionary comprehension\n",
    "\n",
    "squares = { x: x**2 for x in range(5) }\n",
    "squares"
   ]
  },
  {
   "cell_type": "code",
   "execution_count": 48,
   "metadata": {},
   "outputs": [
    {
     "data": {
      "text/plain": [
       "{0: 0, 2: 4, 4: 16}"
      ]
     },
     "execution_count": 48,
     "metadata": {},
     "output_type": "execute_result"
    }
   ],
   "source": [
    "## Conditional dictionary cocmprehension\n",
    "evens = { x: x**2 for x in range(5) if x%2 == 0}\n",
    "evens"
   ]
  },
  {
   "cell_type": "code",
   "execution_count": 51,
   "metadata": {},
   "outputs": [
    {
     "name": "stdout",
     "output_type": "stream",
     "text": [
      "{1: 1, 2: 2, 3: 3, 4: 4}\n",
      "{1: 1, 2: 2, 3: 3, 4: 4}\n"
     ]
    }
   ],
   "source": [
    "## Practical examples\n",
    "\n",
    "# Use a dictionary to count the frequency of elements in list\n",
    "\n",
    "numbers = [1, 2, 2, 3, 3, 3, 4, 4, 4, 4]\n",
    "\n",
    "frequency = {x: numbers.count(x) for x in numbers}\n",
    "print(frequency)\n",
    "\n",
    "frqc = {}\n",
    "for number in numbers:\n",
    "    if number in frqc:\n",
    "        frqc[number] += 1\n",
    "    else:\n",
    "        frqc[number] = 1\n",
    "print(frqc)"
   ]
  },
  {
   "cell_type": "code",
   "execution_count": 52,
   "metadata": {},
   "outputs": [
    {
     "data": {
      "text/plain": [
       "{'a': 1, 'b': 2, 'c': 3, 'd': 4}"
      ]
     },
     "execution_count": 52,
     "metadata": {},
     "output_type": "execute_result"
    }
   ],
   "source": [
    "## Merge 2 dictionary into one\n",
    "\n",
    "dict1 = {'a': 1, 'b': 2}\n",
    "dict2 = {'c': 3, 'd': 4}\n",
    "\n",
    "merged_dict = {**dict1, **dict2}\n",
    "merged_dict"
   ]
  }
 ],
 "metadata": {
  "kernelspec": {
   "display_name": "Python 3",
   "language": "python",
   "name": "python3"
  },
  "language_info": {
   "codemirror_mode": {
    "name": "ipython",
    "version": 3
   },
   "file_extension": ".py",
   "mimetype": "text/x-python",
   "name": "python",
   "nbconvert_exporter": "python",
   "pygments_lexer": "ipython3",
   "version": "3.10.16"
  }
 },
 "nbformat": 4,
 "nbformat_minor": 2
}
