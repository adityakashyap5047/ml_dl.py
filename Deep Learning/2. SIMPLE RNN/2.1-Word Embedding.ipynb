{
 "cells": [
  {
   "cell_type": "code",
   "execution_count": 1,
   "id": "6b9e9548",
   "metadata": {},
   "outputs": [],
   "source": [
    "from tensorflow.keras.preprocessing.text import one_hot"
   ]
  },
  {
   "cell_type": "code",
   "execution_count": 2,
   "id": "bb5b6995",
   "metadata": {},
   "outputs": [],
   "source": [
    "### Sentences\n",
    "sent = [\n",
    "    'the glass of milk',\n",
    "    'the glass of juice',\n",
    "    'I am a good boy',\n",
    "    'I am a good developer',\n",
    "    'understanding the meaning of words',\n",
    "    'your videos are good'\n",
    "]"
   ]
  },
  {
   "cell_type": "code",
   "execution_count": 3,
   "id": "3f6243e4",
   "metadata": {},
   "outputs": [
    {
     "data": {
      "text/plain": [
       "['the glass of milk',\n",
       " 'the glass of juice',\n",
       " 'I am a good boy',\n",
       " 'I am a good developer',\n",
       " 'understanding the meaning of words',\n",
       " 'your videos are good']"
      ]
     },
     "execution_count": 3,
     "metadata": {},
     "output_type": "execute_result"
    }
   ],
   "source": [
    "sent"
   ]
  },
  {
   "cell_type": "code",
   "execution_count": 4,
   "id": "2a85a4b6",
   "metadata": {},
   "outputs": [],
   "source": [
    "### Define the vocabulary size\n",
    "voc_size = 10000"
   ]
  },
  {
   "cell_type": "code",
   "execution_count": 7,
   "id": "6dcdb9e5",
   "metadata": {},
   "outputs": [
    {
     "data": {
      "text/plain": [
       "[[7774, 8722, 5157, 2315],\n",
       " [7774, 8722, 5157, 1162],\n",
       " [4921, 2106, 5588, 4834, 1250],\n",
       " [4921, 2106, 5588, 4834, 8129],\n",
       " [2276, 7774, 2969, 5157, 6207],\n",
       " [1446, 2001, 3794, 4834]]"
      ]
     },
     "execution_count": 7,
     "metadata": {},
     "output_type": "execute_result"
    }
   ],
   "source": [
    "### One Hot Representation\n",
    "one_hot_repr = [one_hot(words, voc_size) for words in sent]\n",
    "one_hot_repr    ### i.e. in the 10000 vocabulary size 'the' is given by the index 7774"
   ]
  },
  {
   "cell_type": "code",
   "execution_count": 9,
   "id": "a277a096",
   "metadata": {},
   "outputs": [],
   "source": [
    "### word Embedding Representation\n",
    "from tensorflow.keras.layers import Embedding\n",
    "from tensorflow.keras.utils import pad_sequences\n",
    "from tensorflow.keras.models import Sequential\n",
    "import numpy as np"
   ]
  },
  {
   "cell_type": "code",
   "execution_count": 10,
   "id": "7a28df77",
   "metadata": {},
   "outputs": [
    {
     "data": {
      "text/plain": [
       "array([[   0,    0,    0,    0, 7774, 8722, 5157, 2315],\n",
       "       [   0,    0,    0,    0, 7774, 8722, 5157, 1162],\n",
       "       [   0,    0,    0, 4921, 2106, 5588, 4834, 1250],\n",
       "       [   0,    0,    0, 4921, 2106, 5588, 4834, 8129],\n",
       "       [   0,    0,    0, 2276, 7774, 2969, 5157, 6207],\n",
       "       [   0,    0,    0,    0, 1446, 2001, 3794, 4834]])"
      ]
     },
     "execution_count": 10,
     "metadata": {},
     "output_type": "execute_result"
    }
   ],
   "source": [
    "### pad_sequences is used to make the input into same shape\n",
    "sent_len = 8\n",
    "embeded_docs = pad_sequences(one_hot_repr, padding='pre', maxlen=sent_len)\n",
    "embeded_docs"
   ]
  },
  {
   "cell_type": "code",
   "execution_count": null,
   "id": "fd43884c",
   "metadata": {},
   "outputs": [],
   "source": []
  }
 ],
 "metadata": {
  "kernelspec": {
   "display_name": "Python 3",
   "language": "python",
   "name": "python3"
  },
  "language_info": {
   "codemirror_mode": {
    "name": "ipython",
    "version": 3
   },
   "file_extension": ".py",
   "mimetype": "text/x-python",
   "name": "python",
   "nbconvert_exporter": "python",
   "pygments_lexer": "ipython3",
   "version": "3.11.0"
  }
 },
 "nbformat": 4,
 "nbformat_minor": 5
}
