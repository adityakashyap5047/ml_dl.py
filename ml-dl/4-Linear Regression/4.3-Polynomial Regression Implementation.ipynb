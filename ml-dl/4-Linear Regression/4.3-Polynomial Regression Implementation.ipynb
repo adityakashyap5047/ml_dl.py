{
 "cells": [
  {
   "cell_type": "code",
   "execution_count": 194,
   "metadata": {},
   "outputs": [],
   "source": [
    "import numpy as np\n",
    "import pandas as pd\n",
    "import matplotlib.pyplot as plt\n",
    "import seaborn as sns"
   ]
  },
  {
   "cell_type": "code",
   "execution_count": 195,
   "metadata": {},
   "outputs": [],
   "source": [
    "### Creating the dataset\n",
    "x = 6 * np.random.rand(100, 1) - 2  # 100 random numbers between with some kind of outliers to this x values\n",
    "y = 0.5 * x**2 + x + 2 + np.random.randn(100, 1)\n",
    "\n",
    "## quadratic equation used - y = 0.5*x^2 + x + 2 + outliers"
   ]
  },
  {
   "cell_type": "code",
   "execution_count": 196,
   "metadata": {},
   "outputs": [
    {
     "data": {
      "text/plain": [
       "Text(0.5, 1.0, 'Dataset')"
      ]
     },
     "execution_count": 196,
     "metadata": {},
     "output_type": "execute_result"
    },
    {
     "data": {
      "image/png": "[encoded data removed]",
      "text/plain": [
       "<Figure size 640x480 with 1 Axes>"
      ]
     },
     "metadata": {},
     "output_type": "display_data"
    }
   ],
   "source": [
    "## Visualizing the dataset\n",
    "plt.scatter(x, y, color='g')\n",
    "plt.xlabel('X') \n",
    "plt.ylabel('Y')\n",
    "plt.title('Dataset')"
   ]
  },
  {
   "cell_type": "code",
   "execution_count": 197,
   "metadata": {},
   "outputs": [],
   "source": [
    "### train test split \n",
    "from sklearn.model_selection import train_test_split\n",
    "\n",
    "x_train, x_test, y_train, y_test = train_test_split(x, y, test_size=0.2, random_state=42)"
   ]
  },
  {
   "cell_type": "markdown",
   "metadata": {},
   "source": [
    "#### Implement Simple Regression"
   ]
  },
  {
   "cell_type": "code",
   "execution_count": 198,
   "metadata": {},
   "outputs": [],
   "source": [
    "from sklearn.linear_model import LinearRegression"
   ]
  },
  {
   "cell_type": "code",
   "execution_count": 199,
   "metadata": {},
   "outputs": [],
   "source": [
    "lin_reg = LinearRegression()"
   ]
  },
  {
   "cell_type": "code",
   "execution_count": 200,
   "metadata": {},
   "outputs": [
    {
     "data": {
      "text/plain": [
       "array([[-0.09049738],\n",
       "       [-1.01162473],\n",
       "       [ 3.85905695],\n",
       "       [ 3.28519948],\n",
       "       [ 1.42824067],\n",
       "       [-0.56399907],\n",
       "       [ 2.62835493],\n",
       "       [ 2.42558917],\n",
       "       [-1.94781736],\n",
       "       [-1.43503525],\n",
       "       [ 1.74972566],\n",
       "       [-1.13921266],\n",
       "       [ 0.57112071],\n",
       "       [-0.58778523],\n",
       "       [ 3.21877438],\n",
       "       [-1.73105338],\n",
       "       [ 2.63093843],\n",
       "       [ 1.75199635],\n",
       "       [ 0.43179624],\n",
       "       [-0.49471015],\n",
       "       [-0.55685166],\n",
       "       [ 1.30890727],\n",
       "       [ 0.61405296],\n",
       "       [ 2.53375118],\n",
       "       [ 2.35882106],\n",
       "       [-0.49907929],\n",
       "       [ 2.70427822],\n",
       "       [-1.54062865],\n",
       "       [ 2.09621179],\n",
       "       [ 3.73767115],\n",
       "       [-1.17370251],\n",
       "       [ 2.14258743],\n",
       "       [ 3.05885539],\n",
       "       [ 2.18997826],\n",
       "       [ 0.59873888],\n",
       "       [-0.07749932],\n",
       "       [ 2.77598223],\n",
       "       [ 1.98451641],\n",
       "       [ 2.84567827],\n",
       "       [ 1.52703375],\n",
       "       [ 1.16568003],\n",
       "       [ 3.6566506 ],\n",
       "       [ 3.26411164],\n",
       "       [ 0.00746097],\n",
       "       [ 1.27327013],\n",
       "       [ 0.48522041],\n",
       "       [ 3.68664331],\n",
       "       [ 2.57845876],\n",
       "       [ 1.13071646],\n",
       "       [-1.70591321],\n",
       "       [-0.05861344],\n",
       "       [-1.90443502],\n",
       "       [ 0.44258909],\n",
       "       [ 3.45525282],\n",
       "       [ 0.18542447],\n",
       "       [-1.7856776 ],\n",
       "       [ 3.56686791],\n",
       "       [ 1.85358822],\n",
       "       [-0.03838565],\n",
       "       [ 0.93740863],\n",
       "       [ 2.61632568],\n",
       "       [-0.86706997],\n",
       "       [-1.72946818],\n",
       "       [-0.79270095],\n",
       "       [ 0.33684502],\n",
       "       [ 0.08581517],\n",
       "       [ 1.43359725],\n",
       "       [ 0.58757538],\n",
       "       [ 2.88616717],\n",
       "       [ 1.55772265],\n",
       "       [ 3.04271128],\n",
       "       [ 1.80619912],\n",
       "       [-0.24556904],\n",
       "       [ 2.15048755],\n",
       "       [ 2.39892219],\n",
       "       [ 0.72024391],\n",
       "       [ 2.40283135],\n",
       "       [ 3.97065205],\n",
       "       [-1.17119577],\n",
       "       [ 0.94218078],\n",
       "       [ 3.44515793],\n",
       "       [ 0.25225706],\n",
       "       [-0.41992544],\n",
       "       [-1.89317959],\n",
       "       [ 3.25396573],\n",
       "       [ 1.14929295],\n",
       "       [ 3.52599254],\n",
       "       [-0.60157481],\n",
       "       [-1.38890341],\n",
       "       [ 1.83938797],\n",
       "       [ 1.51725965],\n",
       "       [-1.14934748],\n",
       "       [ 3.42014204],\n",
       "       [ 3.15155306],\n",
       "       [ 3.51876352],\n",
       "       [ 3.1609929 ],\n",
       "       [-0.72204727],\n",
       "       [-1.98351573],\n",
       "       [ 2.60169718],\n",
       "       [ 0.30022343]])"
      ]
     },
     "execution_count": 200,
     "metadata": {},
     "output_type": "execute_result"
    }
   ],
   "source": [
    "x   ### Already in standard state"
   ]
  },
  {
   "cell_type": "code",
   "execution_count": 201,
   "metadata": {},
   "outputs": [
    {
     "data": {
      "text/html": [
       "<style>#sk-container-id-11 {\n",
       "  /* Definition of color scheme common for light and dark mode */\n",
       "  --sklearn-color-text: #000;\n",
       "  --sklearn-color-text-muted: #666;\n",
       "  --sklearn-color-line: gray;\n",
       "  /* Definition of color scheme for unfitted estimators */\n",
       "  --sklearn-color-unfitted-level-0: #fff5e6;\n",
       "  --sklearn-color-unfitted-level-1: #f6e4d2;\n",
       "  --sklearn-color-unfitted-level-2: #ffe0b3;\n",
       "  --sklearn-color-unfitted-level-3: chocolate;\n",
       "  /* Definition of color scheme for fitted estimators */\n",
       "  --sklearn-color-fitted-level-0: #f0f8ff;\n",
       "  --sklearn-color-fitted-level-1: #d4ebff;\n",
       "  --sklearn-color-fitted-level-2: #b3dbfd;\n",
       "  --sklearn-color-fitted-level-3: cornflowerblue;\n",
       "\n",
       "  /* Specific color for light theme */\n",
       "  --sklearn-color-text-on-default-background: var(--sg-text-color, var(--theme-code-foreground, var(--jp-content-font-color1, black)));\n",
       "  --sklearn-color-background: var(--sg-background-color, var(--theme-background, var(--jp-layout-color0, white)));\n",
       "  --sklearn-color-border-box: var(--sg-text-color, var(--theme-code-foreground, var(--jp-content-font-color1, black)));\n",
       "  --sklearn-color-icon: #696969;\n",
       "\n",
       "  @media (prefers-color-scheme: dark) {\n",
       "    /* Redefinition of color scheme for dark theme */\n",
       "    --sklearn-color-text-on-default-background: var(--sg-text-color, var(--theme-code-foreground, var(--jp-content-font-color1, white)));\n",
       "    --sklearn-color-background: var(--sg-background-color, var(--theme-background, var(--jp-layout-color0, #111)));\n",
       "    --sklearn-color-border-box: var(--sg-text-color, var(--theme-code-foreground, var(--jp-content-font-color1, white)));\n",
       "    --sklearn-color-icon: #878787;\n",
       "  }\n",
       "}\n",
       "\n",
       "#sk-container-id-11 {\n",
       "  color: var(--sklearn-color-text);\n",
       "}\n",
       "\n",
       "#sk-container-id-11 pre {\n",
       "  padding: 0;\n",
       "}\n",
       "\n",
       "#sk-container-id-11 input.sk-hidden--visually {\n",
       "  border: 0;\n",
       "  clip: rect(1px 1px 1px 1px);\n",
       "  clip: rect(1px, 1px, 1px, 1px);\n",
       "  height: 1px;\n",
       "  margin: -1px;\n",
       "  overflow: hidden;\n",
       "  padding: 0;\n",
       "  position: absolute;\n",
       "  width: 1px;\n",
       "}\n",
       "\n",
       "#sk-container-id-11 div.sk-dashed-wrapped {\n",
       "  border: 1px dashed var(--sklearn-color-line);\n",
       "  margin: 0 0.4em 0.5em 0.4em;\n",
       "  box-sizing: border-box;\n",
       "  padding-bottom: 0.4em;\n",
       "  background-color: var(--sklearn-color-background);\n",
       "}\n",
       "\n",
       "#sk-container-id-11 div.sk-container {\n",
       "  /* jupyter's `normalize.less` sets `[hidden] { display: none; }`\n",
       "     but bootstrap.min.css set `[hidden] { display: none !important; }`\n",
       "     so we also need the `!important` here to be able to override the\n",
       "     default hidden behavior on the sphinx rendered scikit-learn.org.\n",
       "     See: https://github.com/scikit-learn/scikit-learn/issues/21755 */\n",
       "  display: inline-block !important;\n",
       "  position: relative;\n",
       "}\n",
       "\n",
       "#sk-container-id-11 div.sk-text-repr-fallback {\n",
       "  display: none;\n",
       "}\n",
       "\n",
       "div.sk-parallel-item,\n",
       "div.sk-serial,\n",
       "div.sk-item {\n",
       "  /* draw centered vertical line to link estimators */\n",
       "  background-image: linear-gradient(var(--sklearn-color-text-on-default-background), var(--sklearn-color-text-on-default-background));\n",
       "  background-size: 2px 100%;\n",
       "  background-repeat: no-repeat;\n",
       "  background-position: center center;\n",
       "}\n",
       "\n",
       "/* Parallel-specific style estimator block */\n",
       "\n",
       "#sk-container-id-11 div.sk-parallel-item::after {\n",
       "  content: \"\";\n",
       "  width: 100%;\n",
       "  border-bottom: 2px solid var(--sklearn-color-text-on-default-background);\n",
       "  flex-grow: 1;\n",
       "}\n",
       "\n",
       "#sk-container-id-11 div.sk-parallel {\n",
       "  display: flex;\n",
       "  align-items: stretch;\n",
       "  justify-content: center;\n",
       "  background-color: var(--sklearn-color-background);\n",
       "  position: relative;\n",
       "}\n",
       "\n",
       "#sk-container-id-11 div.sk-parallel-item {\n",
       "  display: flex;\n",
       "  flex-direction: column;\n",
       "}\n",
       "\n",
       "#sk-container-id-11 div.sk-parallel-item:first-child::after {\n",
       "  align-self: flex-end;\n",
       "  width: 50%;\n",
       "}\n",
       "\n",
       "#sk-container-id-11 div.sk-parallel-item:last-child::after {\n",
       "  align-self: flex-start;\n",
       "  width: 50%;\n",
       "}\n",
       "\n",
       "#sk-container-id-11 div.sk-parallel-item:only-child::after {\n",
       "  width: 0;\n",
       "}\n",
       "\n",
       "/* Serial-specific style estimator block */\n",
       "\n",
       "#sk-container-id-11 div.sk-serial {\n",
       "  display: flex;\n",
       "  flex-direction: column;\n",
       "  align-items: center;\n",
       "  background-color: var(--sklearn-color-background);\n",
       "  padding-right: 1em;\n",
       "  padding-left: 1em;\n",
       "}\n",
       "\n",
       "\n",
       "/* Toggleable style: style used for estimator/Pipeline/ColumnTransformer box that is\n",
       "clickable and can be expanded/collapsed.\n",
       "- Pipeline and ColumnTransformer use this feature and define the default style\n",
       "- Estimators will overwrite some part of the style using the `sk-estimator` class\n",
       "*/\n",
       "\n",
       "/* Pipeline and ColumnTransformer style (default) */\n",
       "\n",
       "#sk-container-id-11 div.sk-toggleable {\n",
       "  /* Default theme specific background. It is overwritten whether we have a\n",
       "  specific estimator or a Pipeline/ColumnTransformer */\n",
       "  background-color: var(--sklearn-color-background);\n",
       "}\n",
       "\n",
       "/* Toggleable label */\n",
       "#sk-container-id-11 label.sk-toggleable__label {\n",
       "  cursor: pointer;\n",
       "  display: flex;\n",
       "  width: 100%;\n",
       "  margin-bottom: 0;\n",
       "  padding: 0.5em;\n",
       "  box-sizing: border-box;\n",
       "  text-align: center;\n",
       "  align-items: start;\n",
       "  justify-content: space-between;\n",
       "  gap: 0.5em;\n",
       "}\n",
       "\n",
       "#sk-container-id-11 label.sk-toggleable__label .caption {\n",
       "  font-size: 0.6rem;\n",
       "  font-weight: lighter;\n",
       "  color: var(--sklearn-color-text-muted);\n",
       "}\n",
       "\n",
       "#sk-container-id-11 label.sk-toggleable__label-arrow:before {\n",
       "  /* Arrow on the left of the label */\n",
       "  content: \"▸\";\n",
       "  float: left;\n",
       "  margin-right: 0.25em;\n",
       "  color: var(--sklearn-color-icon);\n",
       "}\n",
       "\n",
       "#sk-container-id-11 label.sk-toggleable__label-arrow:hover:before {\n",
       "  color: var(--sklearn-color-text);\n",
       "}\n",
       "\n",
       "/* Toggleable content - dropdown */\n",
       "\n",
       "#sk-container-id-11 div.sk-toggleable__content {\n",
       "  max-height: 0;\n",
       "  max-width: 0;\n",
       "  overflow: hidden;\n",
       "  text-align: left;\n",
       "  /* unfitted */\n",
       "  background-color: var(--sklearn-color-unfitted-level-0);\n",
       "}\n",
       "\n",
       "#sk-container-id-11 div.sk-toggleable__content.fitted {\n",
       "  /* fitted */\n",
       "  background-color: var(--sklearn-color-fitted-level-0);\n",
       "}\n",
       "\n",
       "#sk-container-id-11 div.sk-toggleable__content pre {\n",
       "  margin: 0.2em;\n",
       "  border-radius: 0.25em;\n",
       "  color: var(--sklearn-color-text);\n",
       "  /* unfitted */\n",
       "  background-color: var(--sklearn-color-unfitted-level-0);\n",
       "}\n",
       "\n",
       "#sk-container-id-11 div.sk-toggleable__content.fitted pre {\n",
       "  /* unfitted */\n",
       "  background-color: var(--sklearn-color-fitted-level-0);\n",
       "}\n",
       "\n",
       "#sk-container-id-11 input.sk-toggleable__control:checked~div.sk-toggleable__content {\n",
       "  /* Expand drop-down */\n",
       "  max-height: 200px;\n",
       "  max-width: 100%;\n",
       "  overflow: auto;\n",
       "}\n",
       "\n",
       "#sk-container-id-11 input.sk-toggleable__control:checked~label.sk-toggleable__label-arrow:before {\n",
       "  content: \"▾\";\n",
       "}\n",
       "\n",
       "/* Pipeline/ColumnTransformer-specific style */\n",
       "\n",
       "#sk-container-id-11 div.sk-label input.sk-toggleable__control:checked~label.sk-toggleable__label {\n",
       "  color: var(--sklearn-color-text);\n",
       "  background-color: var(--sklearn-color-unfitted-level-2);\n",
       "}\n",
       "\n",
       "#sk-container-id-11 div.sk-label.fitted input.sk-toggleable__control:checked~label.sk-toggleable__label {\n",
       "  background-color: var(--sklearn-color-fitted-level-2);\n",
       "}\n",
       "\n",
       "/* Estimator-specific style */\n",
       "\n",
       "/* Colorize estimator box */\n",
       "#sk-container-id-11 div.sk-estimator input.sk-toggleable__control:checked~label.sk-toggleable__label {\n",
       "  /* unfitted */\n",
       "  background-color: var(--sklearn-color-unfitted-level-2);\n",
       "}\n",
       "\n",
       "#sk-container-id-11 div.sk-estimator.fitted input.sk-toggleable__control:checked~label.sk-toggleable__label {\n",
       "  /* fitted */\n",
       "  background-color: var(--sklearn-color-fitted-level-2);\n",
       "}\n",
       "\n",
       "#sk-container-id-11 div.sk-label label.sk-toggleable__label,\n",
       "#sk-container-id-11 div.sk-label label {\n",
       "  /* The background is the default theme color */\n",
       "  color: var(--sklearn-color-text-on-default-background);\n",
       "}\n",
       "\n",
       "/* On hover, darken the color of the background */\n",
       "#sk-container-id-11 div.sk-label:hover label.sk-toggleable__label {\n",
       "  color: var(--sklearn-color-text);\n",
       "  background-color: var(--sklearn-color-unfitted-level-2);\n",
       "}\n",
       "\n",
       "/* Label box, darken color on hover, fitted */\n",
       "#sk-container-id-11 div.sk-label.fitted:hover label.sk-toggleable__label.fitted {\n",
       "  color: var(--sklearn-color-text);\n",
       "  background-color: var(--sklearn-color-fitted-level-2);\n",
       "}\n",
       "\n",
       "/* Estimator label */\n",
       "\n",
       "#sk-container-id-11 div.sk-label label {\n",
       "  font-family: monospace;\n",
       "  font-weight: bold;\n",
       "  display: inline-block;\n",
       "  line-height: 1.2em;\n",
       "}\n",
       "\n",
       "#sk-container-id-11 div.sk-label-container {\n",
       "  text-align: center;\n",
       "}\n",
       "\n",
       "/* Estimator-specific */\n",
       "#sk-container-id-11 div.sk-estimator {\n",
       "  font-family: monospace;\n",
       "  border: 1px dotted var(--sklearn-color-border-box);\n",
       "  border-radius: 0.25em;\n",
       "  box-sizing: border-box;\n",
       "  margin-bottom: 0.5em;\n",
       "  /* unfitted */\n",
       "  background-color: var(--sklearn-color-unfitted-level-0);\n",
       "}\n",
       "\n",
       "#sk-container-id-11 div.sk-estimator.fitted {\n",
       "  /* fitted */\n",
       "  background-color: var(--sklearn-color-fitted-level-0);\n",
       "}\n",
       "\n",
       "/* on hover */\n",
       "#sk-container-id-11 div.sk-estimator:hover {\n",
       "  /* unfitted */\n",
       "  background-color: var(--sklearn-color-unfitted-level-2);\n",
       "}\n",
       "\n",
       "#sk-container-id-11 div.sk-estimator.fitted:hover {\n",
       "  /* fitted */\n",
       "  background-color: var(--sklearn-color-fitted-level-2);\n",
       "}\n",
       "\n",
       "/* Specification for estimator info (e.g. \"i\" and \"?\") */\n",
       "\n",
       "/* Common style for \"i\" and \"?\" */\n",
       "\n",
       ".sk-estimator-doc-link,\n",
       "a:link.sk-estimator-doc-link,\n",
       "a:visited.sk-estimator-doc-link {\n",
       "  float: right;\n",
       "  font-size: smaller;\n",
       "  line-height: 1em;\n",
       "  font-family: monospace;\n",
       "  background-color: var(--sklearn-color-background);\n",
       "  border-radius: 1em;\n",
       "  height: 1em;\n",
       "  width: 1em;\n",
       "  text-decoration: none !important;\n",
       "  margin-left: 0.5em;\n",
       "  text-align: center;\n",
       "  /* unfitted */\n",
       "  border: var(--sklearn-color-unfitted-level-1) 1pt solid;\n",
       "  color: var(--sklearn-color-unfitted-level-1);\n",
       "}\n",
       "\n",
       ".sk-estimator-doc-link.fitted,\n",
       "a:link.sk-estimator-doc-link.fitted,\n",
       "a:visited.sk-estimator-doc-link.fitted {\n",
       "  /* fitted */\n",
       "  border: var(--sklearn-color-fitted-level-1) 1pt solid;\n",
       "  color: var(--sklearn-color-fitted-level-1);\n",
       "}\n",
       "\n",
       "/* On hover */\n",
       "div.sk-estimator:hover .sk-estimator-doc-link:hover,\n",
       ".sk-estimator-doc-link:hover,\n",
       "div.sk-label-container:hover .sk-estimator-doc-link:hover,\n",
       ".sk-estimator-doc-link:hover {\n",
       "  /* unfitted */\n",
       "  background-color: var(--sklearn-color-unfitted-level-3);\n",
       "  color: var(--sklearn-color-background);\n",
       "  text-decoration: none;\n",
       "}\n",
       "\n",
       "div.sk-estimator.fitted:hover .sk-estimator-doc-link.fitted:hover,\n",
       ".sk-estimator-doc-link.fitted:hover,\n",
       "div.sk-label-container:hover .sk-estimator-doc-link.fitted:hover,\n",
       ".sk-estimator-doc-link.fitted:hover {\n",
       "  /* fitted */\n",
       "  background-color: var(--sklearn-color-fitted-level-3);\n",
       "  color: var(--sklearn-color-background);\n",
       "  text-decoration: none;\n",
       "}\n",
       "\n",
       "/* Span, style for the box shown on hovering the info icon */\n",
       ".sk-estimator-doc-link span {\n",
       "  display: none;\n",
       "  z-index: 9999;\n",
       "  position: relative;\n",
       "  font-weight: normal;\n",
       "  right: .2ex;\n",
       "  padding: .5ex;\n",
       "  margin: .5ex;\n",
       "  width: min-content;\n",
       "  min-width: 20ex;\n",
       "  max-width: 50ex;\n",
       "  color: var(--sklearn-color-text);\n",
       "  box-shadow: 2pt 2pt 4pt #999;\n",
       "  /* unfitted */\n",
       "  background: var(--sklearn-color-unfitted-level-0);\n",
       "  border: .5pt solid var(--sklearn-color-unfitted-level-3);\n",
       "}\n",
       "\n",
       ".sk-estimator-doc-link.fitted span {\n",
       "  /* fitted */\n",
       "  background: var(--sklearn-color-fitted-level-0);\n",
       "  border: var(--sklearn-color-fitted-level-3);\n",
       "}\n",
       "\n",
       ".sk-estimator-doc-link:hover span {\n",
       "  display: block;\n",
       "}\n",
       "\n",
       "/* \"?\"-specific style due to the `<a>` HTML tag */\n",
       "\n",
       "#sk-container-id-11 a.estimator_doc_link {\n",
       "  float: right;\n",
       "  font-size: 1rem;\n",
       "  line-height: 1em;\n",
       "  font-family: monospace;\n",
       "  background-color: var(--sklearn-color-background);\n",
       "  border-radius: 1rem;\n",
       "  height: 1rem;\n",
       "  width: 1rem;\n",
       "  text-decoration: none;\n",
       "  /* unfitted */\n",
       "  color: var(--sklearn-color-unfitted-level-1);\n",
       "  border: var(--sklearn-color-unfitted-level-1) 1pt solid;\n",
       "}\n",
       "\n",
       "#sk-container-id-11 a.estimator_doc_link.fitted {\n",
       "  /* fitted */\n",
       "  border: var(--sklearn-color-fitted-level-1) 1pt solid;\n",
       "  color: var(--sklearn-color-fitted-level-1);\n",
       "}\n",
       "\n",
       "/* On hover */\n",
       "#sk-container-id-11 a.estimator_doc_link:hover {\n",
       "  /* unfitted */\n",
       "  background-color: var(--sklearn-color-unfitted-level-3);\n",
       "  color: var(--sklearn-color-background);\n",
       "  text-decoration: none;\n",
       "}\n",
       "\n",
       "#sk-container-id-11 a.estimator_doc_link.fitted:hover {\n",
       "  /* fitted */\n",
       "  background-color: var(--sklearn-color-fitted-level-3);\n",
       "}\n",
       "</style><div id=\"sk-container-id-11\" class=\"sk-top-container\"><div class=\"sk-text-repr-fallback\"><pre>LinearRegression()</pre><b>In a Jupyter environment, please rerun this cell to show the HTML representation or trust the notebook. <br />On GitHub, the HTML representation is unable to render, please try loading this page with nbviewer.org.</b></div><div class=\"sk-container\" hidden><div class=\"sk-item\"><div class=\"sk-estimator fitted sk-toggleable\"><input class=\"sk-toggleable__control sk-hidden--visually\" id=\"sk-estimator-id-11\" type=\"checkbox\" checked><label for=\"sk-estimator-id-11\" class=\"sk-toggleable__label fitted sk-toggleable__label-arrow\"><div><div>LinearRegression</div></div><div><a class=\"sk-estimator-doc-link fitted\" rel=\"noreferrer\" target=\"_blank\" href=\"https://scikit-learn.org/1.6/modules/generated/sklearn.linear_model.LinearRegression.html\">?<span>Documentation for LinearRegression</span></a><span class=\"sk-estimator-doc-link fitted\">i<span>Fitted</span></span></div></label><div class=\"sk-toggleable__content fitted\"><pre>LinearRegression()</pre></div> </div></div></div></div>"
      ],
      "text/plain": [
       "LinearRegression()"
      ]
     },
     "execution_count": 201,
     "metadata": {},
     "output_type": "execute_result"
    }
   ],
   "source": [
    "### Training the model\n",
    "lin_reg.fit(x_train, y_train)"
   ]
  },
  {
   "cell_type": "code",
   "execution_count": 202,
   "metadata": {},
   "outputs": [],
   "source": [
    "### Predict the values\n",
    "y_pred = lin_reg.predict(x_test)"
   ]
  },
  {
   "cell_type": "code",
   "execution_count": 203,
   "metadata": {},
   "outputs": [
    {
     "name": "stdout",
     "output_type": "stream",
     "text": [
      "Mean Squared Error:  3.520391309290118\n",
      "Mean Absolute Error:  1.5776560693918544\n",
      "Root Mean Squared Error:  1.876270585307492\n"
     ]
    }
   ],
   "source": [
    "### Performance metrics\n",
    "from sklearn.metrics import  mean_squared_error, mean_absolute_error\n",
    "mse = mean_squared_error(y_test, y_pred)\n",
    "mae = mean_absolute_error(y_test, y_pred)\n",
    "rmse = np.sqrt(mse)\n",
    "\n",
    "print(\"Mean Squared Error: \", mse)\n",
    "print(\"Mean Absolute Error: \", mae)\n",
    "print(\"Root Mean Squared Error: \", rmse)"
   ]
  },
  {
   "cell_type": "code",
   "execution_count": 204,
   "metadata": {},
   "outputs": [],
   "source": [
    "### R squared\n",
    "\n",
    "from sklearn.metrics import r2_score"
   ]
  },
  {
   "cell_type": "code",
   "execution_count": 205,
   "metadata": {},
   "outputs": [
    {
     "data": {
      "text/plain": [
       "0.6744877377898111"
      ]
     },
     "execution_count": 205,
     "metadata": {},
     "output_type": "execute_result"
    }
   ],
   "source": [
    "score = r2_score(y_test, y_pred)\n",
    "score"
   ]
  },
  {
   "cell_type": "code",
   "execution_count": 206,
   "metadata": {},
   "outputs": [
    {
     "data": {
      "text/plain": [
       "Text(0, 0.5, 'Y')"
      ]
     },
     "execution_count": 206,
     "metadata": {},
     "output_type": "execute_result"
    },
    {
     "data": {
      "image/png": "[encoded data removed]",
      "text/plain": [
       "<Figure size 640x480 with 1 Axes>"
      ]
     },
     "metadata": {},
     "output_type": "display_data"
    }
   ],
   "source": [
    "### Visualize the model \n",
    "plt.plot(x_train, lin_reg.predict(x_train), color='r')\n",
    "plt.scatter(x_train, y_train)\n",
    "plt.xlabel(\"X Dataset\")\n",
    "plt.ylabel(\"Y\")"
   ]
  },
  {
   "cell_type": "markdown",
   "metadata": {},
   "source": [
    "#### Polynomial Regression"
   ]
  },
  {
   "cell_type": "code",
   "execution_count": 207,
   "metadata": {},
   "outputs": [],
   "source": [
    "from sklearn.preprocessing import PolynomialFeatures"
   ]
  },
  {
   "cell_type": "code",
   "execution_count": 208,
   "metadata": {},
   "outputs": [],
   "source": [
    "### Include bias means we also consider `a` for y = a + bx + cx^2\n",
    "poly = PolynomialFeatures(degree=2, include_bias=True)\n",
    "x_train_poly = poly.fit_transform(x_train)\n",
    "x_test_poly = poly.transform(x_test)"
   ]
  },
  {
   "cell_type": "code",
   "execution_count": 209,
   "metadata": {},
   "outputs": [
    {
     "data": {
      "text/plain": [
       "array([[ 1.00000000e+00, -1.78567760e+00,  3.18864450e+00],\n",
       "       [ 1.00000000e+00, -1.38890341e+00,  1.92905268e+00],\n",
       "       [ 1.00000000e+00,  2.70427822e+00,  7.31312069e+00],\n",
       "       [ 1.00000000e+00,  3.26411164e+00,  1.06544248e+01],\n",
       "       [ 1.00000000e+00,  1.55772265e+00,  2.42649984e+00],\n",
       "       [ 1.00000000e+00, -1.73105338e+00,  2.99654582e+00],\n",
       "       [ 1.00000000e+00,  1.16568003e+00,  1.35880993e+00],\n",
       "       [ 1.00000000e+00, -7.22047273e-01,  5.21352264e-01],\n",
       "       [ 1.00000000e+00, -1.43503525e+00,  2.05932617e+00],\n",
       "       [ 1.00000000e+00, -2.45569040e-01,  6.03041536e-02],\n",
       "       [ 1.00000000e+00, -1.13921266e+00,  1.29780549e+00],\n",
       "       [ 1.00000000e+00,  2.57845876e+00,  6.64844957e+00],\n",
       "       [ 1.00000000e+00,  1.14929295e+00,  1.32087428e+00],\n",
       "       [ 1.00000000e+00,  2.09621179e+00,  4.39410387e+00],\n",
       "       [ 1.00000000e+00,  3.15155306e+00,  9.93228667e+00],\n",
       "       [ 1.00000000e+00, -5.63999071e-01,  3.18094952e-01],\n",
       "       [ 1.00000000e+00,  1.43359725e+00,  2.05520108e+00],\n",
       "       [ 1.00000000e+00,  8.58151651e-02,  7.36424256e-03],\n",
       "       [ 1.00000000e+00, -7.74993195e-02,  6.00614453e-03],\n",
       "       [ 1.00000000e+00,  2.63093843e+00,  6.92183704e+00],\n",
       "       [ 1.00000000e+00, -1.70591321e+00,  2.91013987e+00],\n",
       "       [ 1.00000000e+00,  5.98738879e-01,  3.58488245e-01],\n",
       "       [ 1.00000000e+00,  2.42558917e+00,  5.88348280e+00],\n",
       "       [ 1.00000000e+00,  3.16099290e+00,  9.99187609e+00],\n",
       "       [ 1.00000000e+00, -1.54062865e+00,  2.37353664e+00],\n",
       "       [ 1.00000000e+00, -4.94710147e-01,  2.44738130e-01],\n",
       "       [ 1.00000000e+00,  2.52257061e-01,  6.36336249e-02],\n",
       "       [ 1.00000000e+00, -4.99079289e-01,  2.49080137e-01],\n",
       "       [ 1.00000000e+00, -1.72946818e+00,  2.99106018e+00],\n",
       "       [ 1.00000000e+00, -5.87785228e-01,  3.45491475e-01],\n",
       "       [ 1.00000000e+00,  2.35882106e+00,  5.56403679e+00],\n",
       "       [ 1.00000000e+00,  3.28519948e+00,  1.07925356e+01],\n",
       "       [ 1.00000000e+00,  1.75199635e+00,  3.06949122e+00],\n",
       "       [ 1.00000000e+00,  2.84567827e+00,  8.09788480e+00],\n",
       "       [ 1.00000000e+00, -1.94781736e+00,  3.79399246e+00],\n",
       "       [ 1.00000000e+00, -1.17119577e+00,  1.37169953e+00],\n",
       "       [ 1.00000000e+00,  2.62835493e+00,  6.90824965e+00],\n",
       "       [ 1.00000000e+00,  3.36845016e-01,  1.13464565e-01],\n",
       "       [ 1.00000000e+00,  2.77598223e+00,  7.70607734e+00],\n",
       "       [ 1.00000000e+00,  1.83938797e+00,  3.38334810e+00],\n",
       "       [ 1.00000000e+00,  3.56686791e+00,  1.27225467e+01],\n",
       "       [ 1.00000000e+00,  3.00223426e-01,  9.01341054e-02],\n",
       "       [ 1.00000000e+00,  1.85424467e-01,  3.43822331e-02],\n",
       "       [ 1.00000000e+00,  7.46097035e-03,  5.56660785e-05],\n",
       "       [ 1.00000000e+00, -5.86134442e-02,  3.43553584e-03],\n",
       "       [ 1.00000000e+00,  5.87575377e-01,  3.45244824e-01],\n",
       "       [ 1.00000000e+00,  3.68664331e+00,  1.35913389e+01],\n",
       "       [ 1.00000000e+00,  2.88616717e+00,  8.32996093e+00],\n",
       "       [ 1.00000000e+00, -8.67069968e-01,  7.51810330e-01],\n",
       "       [ 1.00000000e+00, -1.98351573e+00,  3.93433467e+00],\n",
       "       [ 1.00000000e+00,  9.42180776e-01,  8.87704615e-01],\n",
       "       [ 1.00000000e+00,  3.65665060e+00,  1.33710936e+01],\n",
       "       [ 1.00000000e+00, -3.83856470e-02,  1.47345789e-03],\n",
       "       [ 1.00000000e+00,  1.13071646e+00,  1.27851971e+00],\n",
       "       [ 1.00000000e+00,  2.60169718e+00,  6.76882819e+00],\n",
       "       [ 1.00000000e+00,  1.85358822e+00,  3.43578927e+00],\n",
       "       [ 1.00000000e+00,  7.20243908e-01,  5.18751287e-01],\n",
       "       [ 1.00000000e+00,  3.05885539e+00,  9.35659628e+00],\n",
       "       [ 1.00000000e+00,  3.51876352e+00,  1.23816967e+01],\n",
       "       [ 1.00000000e+00,  9.37408626e-01,  8.78734932e-01],\n",
       "       [ 1.00000000e+00, -7.92700949e-01,  6.28374794e-01],\n",
       "       [ 1.00000000e+00,  3.25396573e+00,  1.05882930e+01],\n",
       "       [ 1.00000000e+00,  1.98451641e+00,  3.93830537e+00],\n",
       "       [ 1.00000000e+00,  3.73767115e+00,  1.39701857e+01],\n",
       "       [ 1.00000000e+00, -1.01162473e+00,  1.02338459e+00],\n",
       "       [ 1.00000000e+00,  4.42589089e-01,  1.95885102e-01],\n",
       "       [ 1.00000000e+00,  1.30890727e+00,  1.71323824e+00],\n",
       "       [ 1.00000000e+00,  3.85905695e+00,  1.48923205e+01],\n",
       "       [ 1.00000000e+00,  2.53375118e+00,  6.41989502e+00],\n",
       "       [ 1.00000000e+00, -6.01574806e-01,  3.61892247e-01],\n",
       "       [ 1.00000000e+00, -1.14934748e+00,  1.32099962e+00],\n",
       "       [ 1.00000000e+00,  2.39892219e+00,  5.75482768e+00],\n",
       "       [ 1.00000000e+00,  3.52599254e+00,  1.24326234e+01],\n",
       "       [ 1.00000000e+00, -4.19925436e-01,  1.76337372e-01],\n",
       "       [ 1.00000000e+00, -5.56851661e-01,  3.10083773e-01],\n",
       "       [ 1.00000000e+00,  2.61632568e+00,  6.84516004e+00],\n",
       "       [ 1.00000000e+00,  1.80619912e+00,  3.26235526e+00],\n",
       "       [ 1.00000000e+00,  3.21877438e+00,  1.03605085e+01],\n",
       "       [ 1.00000000e+00,  3.42014204e+00,  1.16973716e+01],\n",
       "       [ 1.00000000e+00, -1.90443502e+00,  3.62687273e+00]])"
      ]
     },
     "execution_count": 209,
     "metadata": {},
     "output_type": "execute_result"
    }
   ],
   "source": [
    "x_train_poly"
   ]
  },
  {
   "cell_type": "code",
   "execution_count": 210,
   "metadata": {},
   "outputs": [
    {
     "data": {
      "text/plain": [
       "array([[ 1.00000000e+00, -1.89317959e+00,  3.58412895e+00],\n",
       "       [ 1.00000000e+00,  3.45525282e+00,  1.19387720e+01],\n",
       "       [ 1.00000000e+00,  3.04271128e+00,  9.25809195e+00],\n",
       "       [ 1.00000000e+00,  4.85220415e-01,  2.35438851e-01],\n",
       "       [ 1.00000000e+00,  1.27327013e+00,  1.62121683e+00],\n",
       "       [ 1.00000000e+00,  1.52703375e+00,  2.33183207e+00],\n",
       "       [ 1.00000000e+00,  6.14052963e-01,  3.77061042e-01],\n",
       "       [ 1.00000000e+00,  3.44515793e+00,  1.18691132e+01],\n",
       "       [ 1.00000000e+00,  1.74972566e+00,  3.06153988e+00],\n",
       "       [ 1.00000000e+00, -9.04973833e-02,  8.18977638e-03],\n",
       "       [ 1.00000000e+00,  4.31796244e-01,  1.86447997e-01],\n",
       "       [ 1.00000000e+00, -1.17370251e+00,  1.37757757e+00],\n",
       "       [ 1.00000000e+00,  2.15048755e+00,  4.62459672e+00],\n",
       "       [ 1.00000000e+00,  2.18997826e+00,  4.79600479e+00],\n",
       "       [ 1.00000000e+00,  1.51725965e+00,  2.30207683e+00],\n",
       "       [ 1.00000000e+00,  1.42824067e+00,  2.03987140e+00],\n",
       "       [ 1.00000000e+00,  2.40283135e+00,  5.77359852e+00],\n",
       "       [ 1.00000000e+00,  3.97065205e+00,  1.57660777e+01],\n",
       "       [ 1.00000000e+00,  5.71120706e-01,  3.26178861e-01],\n",
       "       [ 1.00000000e+00,  2.14258743e+00,  4.59068088e+00]])"
      ]
     },
     "execution_count": 210,
     "metadata": {},
     "output_type": "execute_result"
    }
   ],
   "source": [
    "x_test_poly"
   ]
  },
  {
   "cell_type": "code",
   "execution_count": 211,
   "metadata": {},
   "outputs": [
    {
     "data": {
      "text/plain": [
       "0.929114771911817"
      ]
     },
     "execution_count": 211,
     "metadata": {},
     "output_type": "execute_result"
    }
   ],
   "source": [
    "### Now perform the linear regression on this\n",
    "\n",
    "regression = LinearRegression()\n",
    "regression.fit(x_train_poly, y_train)\n",
    "y_pred_poly = regression.predict(x_test_poly)\n",
    "score_poly = r2_score(y_test, y_pred_poly)\n",
    "score_poly"
   ]
  },
  {
   "cell_type": "code",
   "execution_count": 212,
   "metadata": {},
   "outputs": [
    {
     "data": {
      "text/plain": [
       "array([[0.        , 1.06182142, 0.45749746]])"
      ]
     },
     "execution_count": 212,
     "metadata": {},
     "output_type": "execute_result"
    }
   ],
   "source": [
    "regression.coef_"
   ]
  },
  {
   "cell_type": "code",
   "execution_count": 213,
   "metadata": {},
   "outputs": [
    {
     "data": {
      "text/plain": [
       "array([1.86117646])"
      ]
     },
     "execution_count": 213,
     "metadata": {},
     "output_type": "execute_result"
    }
   ],
   "source": [
    "regression.intercept_"
   ]
  },
  {
   "cell_type": "code",
   "execution_count": 214,
   "metadata": {},
   "outputs": [
    {
     "data": {
      "text/plain": [
       "<matplotlib.collections.PathCollection at 0x1ee58295ba0>"
      ]
     },
     "execution_count": 214,
     "metadata": {},
     "output_type": "execute_result"
    },
    {
     "data": {
      "image/png": "[encoded data removed]",
      "text/plain": [
       "<Figure size 640x480 with 1 Axes>"
      ]
     },
     "metadata": {},
     "output_type": "display_data"
    }
   ],
   "source": [
    "plt.scatter(x_train, regression.predict(x_train_poly))\n",
    "plt.scatter(x_train, y_train)"
   ]
  },
  {
   "cell_type": "code",
   "execution_count": 215,
   "metadata": {},
   "outputs": [],
   "source": [
    "### With degree = 3\n",
    "poly = PolynomialFeatures(degree=3, include_bias=True)\n",
    "x_train_poly = poly.fit_transform(x_train)\n",
    "x_test_poly = poly.transform(x_test)"
   ]
  },
  {
   "cell_type": "code",
   "execution_count": 216,
   "metadata": {},
   "outputs": [
    {
     "data": {
      "text/plain": [
       "0.9283768960326919"
      ]
     },
     "execution_count": 216,
     "metadata": {},
     "output_type": "execute_result"
    }
   ],
   "source": [
    "regression = LinearRegression()\n",
    "regression.fit(x_train_poly, y_train)\n",
    "y_pred_poly = regression.predict(x_test_poly)\n",
    "score_poly = r2_score(y_test, y_pred_poly)\n",
    "score_poly"
   ]
  },
  {
   "cell_type": "code",
   "execution_count": 217,
   "metadata": {},
   "outputs": [
    {
     "data": {
      "text/plain": [
       "<matplotlib.collections.PathCollection at 0x1ee55e43ac0>"
      ]
     },
     "execution_count": 217,
     "metadata": {},
     "output_type": "execute_result"
    },
    {
     "data": {
      "image/png": "[encoded data removed]",
      "text/plain": [
       "<Figure size 640x480 with 1 Axes>"
      ]
     },
     "metadata": {},
     "output_type": "display_data"
    }
   ],
   "source": [
    "plt.scatter(x_train, regression.predict(x_train_poly))\n",
    "plt.scatter(x_train, y_train)"
   ]
  },
  {
   "cell_type": "code",
   "execution_count": null,
   "metadata": {},
   "outputs": [],
   "source": []
  }
 ],
 "metadata": {
  "kernelspec": {
   "display_name": "Python 3",
   "language": "python",
   "name": "python3"
  },
  "language_info": {
   "codemirror_mode": {
    "name": "ipython",
    "version": 3
   },
   "file_extension": ".py",
   "mimetype": "text/x-python",
   "name": "python",
   "nbconvert_exporter": "python",
   "pygments_lexer": "ipython3",
   "version": "3.10.16"
  }
 },
 "nbformat": 4,
 "nbformat_minor": 2
}
