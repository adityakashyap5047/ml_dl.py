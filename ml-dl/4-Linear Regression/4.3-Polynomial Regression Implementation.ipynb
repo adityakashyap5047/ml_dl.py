{
 "cells": [
  {
   "cell_type": "code",
   "execution_count": 161,
   "metadata": {},
   "outputs": [],
   "source": [
    "import numpy as np\n",
    "import pandas as pd\n",
    "import matplotlib.pyplot as plt\n",
    "import seaborn as sns"
   ]
  },
  {
   "cell_type": "code",
   "execution_count": 162,
   "metadata": {},
   "outputs": [],
   "source": [
    "### Creating the dataset\n",
    "x = 6 * np.random.rand(100, 1) - 2  # 100 random numbers between with some kind of outliers to this x values\n",
    "y = 0.5 * x**2 + x + 2 + np.random.randn(100, 1)\n",
    "\n",
    "## quadratic equation used - y = 0.5*x^2 + x + 2 + outliers"
   ]
  },
  {
   "cell_type": "code",
   "execution_count": 163,
   "metadata": {},
   "outputs": [
    {
     "data": {
      "text/plain": [
       "Text(0.5, 1.0, 'Dataset')"
      ]
     },
     "execution_count": 163,
     "metadata": {},
     "output_type": "execute_result"
    },
    {
     "data": {
      "image/png": "[encoded data removed]",
      "text/plain": [
       "<Figure size 640x480 with 1 Axes>"
      ]
     },
     "metadata": {},
     "output_type": "display_data"
    }
   ],
   "source": [
    "## Visualizing the dataset\n",
    "plt.scatter(x, y, color='g')\n",
    "plt.xlabel('X') \n",
    "plt.ylabel('Y')\n",
    "plt.title('Dataset')"
   ]
  },
  {
   "cell_type": "code",
   "execution_count": 164,
   "metadata": {},
   "outputs": [],
   "source": [
    "### train test split \n",
    "from sklearn.model_selection import train_test_split\n",
    "\n",
    "x_train, x_test, y_train, y_test = train_test_split(x, y, test_size=0.2, random_state=42)"
   ]
  },
  {
   "cell_type": "markdown",
   "metadata": {},
   "source": [
    "#### Implement Simple Regression"
   ]
  },
  {
   "cell_type": "code",
   "execution_count": 165,
   "metadata": {},
   "outputs": [],
   "source": [
    "from sklearn.linear_model import LinearRegression"
   ]
  },
  {
   "cell_type": "code",
   "execution_count": 166,
   "metadata": {},
   "outputs": [],
   "source": [
    "lin_reg = LinearRegression()"
   ]
  },
  {
   "cell_type": "code",
   "execution_count": 167,
   "metadata": {},
   "outputs": [
    {
     "data": {
      "text/plain": [
       "array([[-0.46535058],\n",
       "       [ 2.31268699],\n",
       "       [ 0.93265985],\n",
       "       [ 3.73952328],\n",
       "       [-1.55374551],\n",
       "       [-0.39489273],\n",
       "       [-0.71427149],\n",
       "       [-1.47182956],\n",
       "       [ 0.60575151],\n",
       "       [ 1.91700376],\n",
       "       [ 0.52516197],\n",
       "       [-1.01703388],\n",
       "       [ 1.94563357],\n",
       "       [-0.57325313],\n",
       "       [ 2.64397135],\n",
       "       [ 2.6592667 ],\n",
       "       [ 0.71334278],\n",
       "       [ 2.94867204],\n",
       "       [ 3.32785122],\n",
       "       [ 1.59620591],\n",
       "       [-0.52267177],\n",
       "       [ 1.99821812],\n",
       "       [ 1.2076136 ],\n",
       "       [ 1.29048257],\n",
       "       [ 3.57211357],\n",
       "       [-1.31136976],\n",
       "       [-1.06701479],\n",
       "       [ 0.51853674],\n",
       "       [ 2.71317365],\n",
       "       [-0.67596523],\n",
       "       [ 1.97167735],\n",
       "       [-0.94927367],\n",
       "       [ 2.83855228],\n",
       "       [-0.35884817],\n",
       "       [ 3.58154464],\n",
       "       [-0.52434231],\n",
       "       [ 2.75730081],\n",
       "       [-1.5940754 ],\n",
       "       [-0.69272855],\n",
       "       [-0.49063432],\n",
       "       [ 2.63943875],\n",
       "       [ 3.32664963],\n",
       "       [ 1.41755303],\n",
       "       [-1.05200645],\n",
       "       [-1.99900962],\n",
       "       [ 2.02941533],\n",
       "       [-0.56481848],\n",
       "       [-1.99526369],\n",
       "       [ 3.14110308],\n",
       "       [ 1.61167006],\n",
       "       [ 0.30325732],\n",
       "       [ 2.4927891 ],\n",
       "       [ 0.54878724],\n",
       "       [-1.61026952],\n",
       "       [ 1.8515597 ],\n",
       "       [ 3.89771218],\n",
       "       [ 3.35765193],\n",
       "       [-0.70236565],\n",
       "       [ 0.44529142],\n",
       "       [ 1.76940753],\n",
       "       [ 1.64896009],\n",
       "       [ 2.78738303],\n",
       "       [ 2.86754281],\n",
       "       [ 2.88524869],\n",
       "       [ 3.58257016],\n",
       "       [-0.74163914],\n",
       "       [ 2.34046103],\n",
       "       [-0.26317005],\n",
       "       [ 2.97664907],\n",
       "       [ 0.13317361],\n",
       "       [ 1.52591378],\n",
       "       [ 3.48645201],\n",
       "       [-0.83379824],\n",
       "       [ 0.3790927 ],\n",
       "       [ 3.89218617],\n",
       "       [ 1.00729521],\n",
       "       [-0.11141004],\n",
       "       [-0.88025642],\n",
       "       [ 3.22506325],\n",
       "       [ 1.47678992],\n",
       "       [-0.76295056],\n",
       "       [-0.87094036],\n",
       "       [-0.51527384],\n",
       "       [ 3.42405456],\n",
       "       [ 2.41292122],\n",
       "       [-1.67143825],\n",
       "       [ 3.45237347],\n",
       "       [-0.78810446],\n",
       "       [-1.30993549],\n",
       "       [ 2.96090064],\n",
       "       [-1.64304566],\n",
       "       [ 3.88667379],\n",
       "       [ 2.6447694 ],\n",
       "       [ 3.88945997],\n",
       "       [-0.47149134],\n",
       "       [ 3.04444481],\n",
       "       [ 0.58112032],\n",
       "       [ 2.9057431 ],\n",
       "       [-0.82859521],\n",
       "       [-1.1783527 ]])"
      ]
     },
     "execution_count": 167,
     "metadata": {},
     "output_type": "execute_result"
    }
   ],
   "source": [
    "x   ### Already in standard state"
   ]
  },
  {
   "cell_type": "code",
   "execution_count": 168,
   "metadata": {},
   "outputs": [
    {
     "data": {
      "text/html": [
       "<style>#sk-container-id-10 {\n",
       "  /* Definition of color scheme common for light and dark mode */\n",
       "  --sklearn-color-text: #000;\n",
       "  --sklearn-color-text-muted: #666;\n",
       "  --sklearn-color-line: gray;\n",
       "  /* Definition of color scheme for unfitted estimators */\n",
       "  --sklearn-color-unfitted-level-0: #fff5e6;\n",
       "  --sklearn-color-unfitted-level-1: #f6e4d2;\n",
       "  --sklearn-color-unfitted-level-2: #ffe0b3;\n",
       "  --sklearn-color-unfitted-level-3: chocolate;\n",
       "  /* Definition of color scheme for fitted estimators */\n",
       "  --sklearn-color-fitted-level-0: #f0f8ff;\n",
       "  --sklearn-color-fitted-level-1: #d4ebff;\n",
       "  --sklearn-color-fitted-level-2: #b3dbfd;\n",
       "  --sklearn-color-fitted-level-3: cornflowerblue;\n",
       "\n",
       "  /* Specific color for light theme */\n",
       "  --sklearn-color-text-on-default-background: var(--sg-text-color, var(--theme-code-foreground, var(--jp-content-font-color1, black)));\n",
       "  --sklearn-color-background: var(--sg-background-color, var(--theme-background, var(--jp-layout-color0, white)));\n",
       "  --sklearn-color-border-box: var(--sg-text-color, var(--theme-code-foreground, var(--jp-content-font-color1, black)));\n",
       "  --sklearn-color-icon: #696969;\n",
       "\n",
       "  @media (prefers-color-scheme: dark) {\n",
       "    /* Redefinition of color scheme for dark theme */\n",
       "    --sklearn-color-text-on-default-background: var(--sg-text-color, var(--theme-code-foreground, var(--jp-content-font-color1, white)));\n",
       "    --sklearn-color-background: var(--sg-background-color, var(--theme-background, var(--jp-layout-color0, #111)));\n",
       "    --sklearn-color-border-box: var(--sg-text-color, var(--theme-code-foreground, var(--jp-content-font-color1, white)));\n",
       "    --sklearn-color-icon: #878787;\n",
       "  }\n",
       "}\n",
       "\n",
       "#sk-container-id-10 {\n",
       "  color: var(--sklearn-color-text);\n",
       "}\n",
       "\n",
       "#sk-container-id-10 pre {\n",
       "  padding: 0;\n",
       "}\n",
       "\n",
       "#sk-container-id-10 input.sk-hidden--visually {\n",
       "  border: 0;\n",
       "  clip: rect(1px 1px 1px 1px);\n",
       "  clip: rect(1px, 1px, 1px, 1px);\n",
       "  height: 1px;\n",
       "  margin: -1px;\n",
       "  overflow: hidden;\n",
       "  padding: 0;\n",
       "  position: absolute;\n",
       "  width: 1px;\n",
       "}\n",
       "\n",
       "#sk-container-id-10 div.sk-dashed-wrapped {\n",
       "  border: 1px dashed var(--sklearn-color-line);\n",
       "  margin: 0 0.4em 0.5em 0.4em;\n",
       "  box-sizing: border-box;\n",
       "  padding-bottom: 0.4em;\n",
       "  background-color: var(--sklearn-color-background);\n",
       "}\n",
       "\n",
       "#sk-container-id-10 div.sk-container {\n",
       "  /* jupyter's `normalize.less` sets `[hidden] { display: none; }`\n",
       "     but bootstrap.min.css set `[hidden] { display: none !important; }`\n",
       "     so we also need the `!important` here to be able to override the\n",
       "     default hidden behavior on the sphinx rendered scikit-learn.org.\n",
       "     See: https://github.com/scikit-learn/scikit-learn/issues/21755 */\n",
       "  display: inline-block !important;\n",
       "  position: relative;\n",
       "}\n",
       "\n",
       "#sk-container-id-10 div.sk-text-repr-fallback {\n",
       "  display: none;\n",
       "}\n",
       "\n",
       "div.sk-parallel-item,\n",
       "div.sk-serial,\n",
       "div.sk-item {\n",
       "  /* draw centered vertical line to link estimators */\n",
       "  background-image: linear-gradient(var(--sklearn-color-text-on-default-background), var(--sklearn-color-text-on-default-background));\n",
       "  background-size: 2px 100%;\n",
       "  background-repeat: no-repeat;\n",
       "  background-position: center center;\n",
       "}\n",
       "\n",
       "/* Parallel-specific style estimator block */\n",
       "\n",
       "#sk-container-id-10 div.sk-parallel-item::after {\n",
       "  content: \"\";\n",
       "  width: 100%;\n",
       "  border-bottom: 2px solid var(--sklearn-color-text-on-default-background);\n",
       "  flex-grow: 1;\n",
       "}\n",
       "\n",
       "#sk-container-id-10 div.sk-parallel {\n",
       "  display: flex;\n",
       "  align-items: stretch;\n",
       "  justify-content: center;\n",
       "  background-color: var(--sklearn-color-background);\n",
       "  position: relative;\n",
       "}\n",
       "\n",
       "#sk-container-id-10 div.sk-parallel-item {\n",
       "  display: flex;\n",
       "  flex-direction: column;\n",
       "}\n",
       "\n",
       "#sk-container-id-10 div.sk-parallel-item:first-child::after {\n",
       "  align-self: flex-end;\n",
       "  width: 50%;\n",
       "}\n",
       "\n",
       "#sk-container-id-10 div.sk-parallel-item:last-child::after {\n",
       "  align-self: flex-start;\n",
       "  width: 50%;\n",
       "}\n",
       "\n",
       "#sk-container-id-10 div.sk-parallel-item:only-child::after {\n",
       "  width: 0;\n",
       "}\n",
       "\n",
       "/* Serial-specific style estimator block */\n",
       "\n",
       "#sk-container-id-10 div.sk-serial {\n",
       "  display: flex;\n",
       "  flex-direction: column;\n",
       "  align-items: center;\n",
       "  background-color: var(--sklearn-color-background);\n",
       "  padding-right: 1em;\n",
       "  padding-left: 1em;\n",
       "}\n",
       "\n",
       "\n",
       "/* Toggleable style: style used for estimator/Pipeline/ColumnTransformer box that is\n",
       "clickable and can be expanded/collapsed.\n",
       "- Pipeline and ColumnTransformer use this feature and define the default style\n",
       "- Estimators will overwrite some part of the style using the `sk-estimator` class\n",
       "*/\n",
       "\n",
       "/* Pipeline and ColumnTransformer style (default) */\n",
       "\n",
       "#sk-container-id-10 div.sk-toggleable {\n",
       "  /* Default theme specific background. It is overwritten whether we have a\n",
       "  specific estimator or a Pipeline/ColumnTransformer */\n",
       "  background-color: var(--sklearn-color-background);\n",
       "}\n",
       "\n",
       "/* Toggleable label */\n",
       "#sk-container-id-10 label.sk-toggleable__label {\n",
       "  cursor: pointer;\n",
       "  display: flex;\n",
       "  width: 100%;\n",
       "  margin-bottom: 0;\n",
       "  padding: 0.5em;\n",
       "  box-sizing: border-box;\n",
       "  text-align: center;\n",
       "  align-items: start;\n",
       "  justify-content: space-between;\n",
       "  gap: 0.5em;\n",
       "}\n",
       "\n",
       "#sk-container-id-10 label.sk-toggleable__label .caption {\n",
       "  font-size: 0.6rem;\n",
       "  font-weight: lighter;\n",
       "  color: var(--sklearn-color-text-muted);\n",
       "}\n",
       "\n",
       "#sk-container-id-10 label.sk-toggleable__label-arrow:before {\n",
       "  /* Arrow on the left of the label */\n",
       "  content: \"▸\";\n",
       "  float: left;\n",
       "  margin-right: 0.25em;\n",
       "  color: var(--sklearn-color-icon);\n",
       "}\n",
       "\n",
       "#sk-container-id-10 label.sk-toggleable__label-arrow:hover:before {\n",
       "  color: var(--sklearn-color-text);\n",
       "}\n",
       "\n",
       "/* Toggleable content - dropdown */\n",
       "\n",
       "#sk-container-id-10 div.sk-toggleable__content {\n",
       "  max-height: 0;\n",
       "  max-width: 0;\n",
       "  overflow: hidden;\n",
       "  text-align: left;\n",
       "  /* unfitted */\n",
       "  background-color: var(--sklearn-color-unfitted-level-0);\n",
       "}\n",
       "\n",
       "#sk-container-id-10 div.sk-toggleable__content.fitted {\n",
       "  /* fitted */\n",
       "  background-color: var(--sklearn-color-fitted-level-0);\n",
       "}\n",
       "\n",
       "#sk-container-id-10 div.sk-toggleable__content pre {\n",
       "  margin: 0.2em;\n",
       "  border-radius: 0.25em;\n",
       "  color: var(--sklearn-color-text);\n",
       "  /* unfitted */\n",
       "  background-color: var(--sklearn-color-unfitted-level-0);\n",
       "}\n",
       "\n",
       "#sk-container-id-10 div.sk-toggleable__content.fitted pre {\n",
       "  /* unfitted */\n",
       "  background-color: var(--sklearn-color-fitted-level-0);\n",
       "}\n",
       "\n",
       "#sk-container-id-10 input.sk-toggleable__control:checked~div.sk-toggleable__content {\n",
       "  /* Expand drop-down */\n",
       "  max-height: 200px;\n",
       "  max-width: 100%;\n",
       "  overflow: auto;\n",
       "}\n",
       "\n",
       "#sk-container-id-10 input.sk-toggleable__control:checked~label.sk-toggleable__label-arrow:before {\n",
       "  content: \"▾\";\n",
       "}\n",
       "\n",
       "/* Pipeline/ColumnTransformer-specific style */\n",
       "\n",
       "#sk-container-id-10 div.sk-label input.sk-toggleable__control:checked~label.sk-toggleable__label {\n",
       "  color: var(--sklearn-color-text);\n",
       "  background-color: var(--sklearn-color-unfitted-level-2);\n",
       "}\n",
       "\n",
       "#sk-container-id-10 div.sk-label.fitted input.sk-toggleable__control:checked~label.sk-toggleable__label {\n",
       "  background-color: var(--sklearn-color-fitted-level-2);\n",
       "}\n",
       "\n",
       "/* Estimator-specific style */\n",
       "\n",
       "/* Colorize estimator box */\n",
       "#sk-container-id-10 div.sk-estimator input.sk-toggleable__control:checked~label.sk-toggleable__label {\n",
       "  /* unfitted */\n",
       "  background-color: var(--sklearn-color-unfitted-level-2);\n",
       "}\n",
       "\n",
       "#sk-container-id-10 div.sk-estimator.fitted input.sk-toggleable__control:checked~label.sk-toggleable__label {\n",
       "  /* fitted */\n",
       "  background-color: var(--sklearn-color-fitted-level-2);\n",
       "}\n",
       "\n",
       "#sk-container-id-10 div.sk-label label.sk-toggleable__label,\n",
       "#sk-container-id-10 div.sk-label label {\n",
       "  /* The background is the default theme color */\n",
       "  color: var(--sklearn-color-text-on-default-background);\n",
       "}\n",
       "\n",
       "/* On hover, darken the color of the background */\n",
       "#sk-container-id-10 div.sk-label:hover label.sk-toggleable__label {\n",
       "  color: var(--sklearn-color-text);\n",
       "  background-color: var(--sklearn-color-unfitted-level-2);\n",
       "}\n",
       "\n",
       "/* Label box, darken color on hover, fitted */\n",
       "#sk-container-id-10 div.sk-label.fitted:hover label.sk-toggleable__label.fitted {\n",
       "  color: var(--sklearn-color-text);\n",
       "  background-color: var(--sklearn-color-fitted-level-2);\n",
       "}\n",
       "\n",
       "/* Estimator label */\n",
       "\n",
       "#sk-container-id-10 div.sk-label label {\n",
       "  font-family: monospace;\n",
       "  font-weight: bold;\n",
       "  display: inline-block;\n",
       "  line-height: 1.2em;\n",
       "}\n",
       "\n",
       "#sk-container-id-10 div.sk-label-container {\n",
       "  text-align: center;\n",
       "}\n",
       "\n",
       "/* Estimator-specific */\n",
       "#sk-container-id-10 div.sk-estimator {\n",
       "  font-family: monospace;\n",
       "  border: 1px dotted var(--sklearn-color-border-box);\n",
       "  border-radius: 0.25em;\n",
       "  box-sizing: border-box;\n",
       "  margin-bottom: 0.5em;\n",
       "  /* unfitted */\n",
       "  background-color: var(--sklearn-color-unfitted-level-0);\n",
       "}\n",
       "\n",
       "#sk-container-id-10 div.sk-estimator.fitted {\n",
       "  /* fitted */\n",
       "  background-color: var(--sklearn-color-fitted-level-0);\n",
       "}\n",
       "\n",
       "/* on hover */\n",
       "#sk-container-id-10 div.sk-estimator:hover {\n",
       "  /* unfitted */\n",
       "  background-color: var(--sklearn-color-unfitted-level-2);\n",
       "}\n",
       "\n",
       "#sk-container-id-10 div.sk-estimator.fitted:hover {\n",
       "  /* fitted */\n",
       "  background-color: var(--sklearn-color-fitted-level-2);\n",
       "}\n",
       "\n",
       "/* Specification for estimator info (e.g. \"i\" and \"?\") */\n",
       "\n",
       "/* Common style for \"i\" and \"?\" */\n",
       "\n",
       ".sk-estimator-doc-link,\n",
       "a:link.sk-estimator-doc-link,\n",
       "a:visited.sk-estimator-doc-link {\n",
       "  float: right;\n",
       "  font-size: smaller;\n",
       "  line-height: 1em;\n",
       "  font-family: monospace;\n",
       "  background-color: var(--sklearn-color-background);\n",
       "  border-radius: 1em;\n",
       "  height: 1em;\n",
       "  width: 1em;\n",
       "  text-decoration: none !important;\n",
       "  margin-left: 0.5em;\n",
       "  text-align: center;\n",
       "  /* unfitted */\n",
       "  border: var(--sklearn-color-unfitted-level-1) 1pt solid;\n",
       "  color: var(--sklearn-color-unfitted-level-1);\n",
       "}\n",
       "\n",
       ".sk-estimator-doc-link.fitted,\n",
       "a:link.sk-estimator-doc-link.fitted,\n",
       "a:visited.sk-estimator-doc-link.fitted {\n",
       "  /* fitted */\n",
       "  border: var(--sklearn-color-fitted-level-1) 1pt solid;\n",
       "  color: var(--sklearn-color-fitted-level-1);\n",
       "}\n",
       "\n",
       "/* On hover */\n",
       "div.sk-estimator:hover .sk-estimator-doc-link:hover,\n",
       ".sk-estimator-doc-link:hover,\n",
       "div.sk-label-container:hover .sk-estimator-doc-link:hover,\n",
       ".sk-estimator-doc-link:hover {\n",
       "  /* unfitted */\n",
       "  background-color: var(--sklearn-color-unfitted-level-3);\n",
       "  color: var(--sklearn-color-background);\n",
       "  text-decoration: none;\n",
       "}\n",
       "\n",
       "div.sk-estimator.fitted:hover .sk-estimator-doc-link.fitted:hover,\n",
       ".sk-estimator-doc-link.fitted:hover,\n",
       "div.sk-label-container:hover .sk-estimator-doc-link.fitted:hover,\n",
       ".sk-estimator-doc-link.fitted:hover {\n",
       "  /* fitted */\n",
       "  background-color: var(--sklearn-color-fitted-level-3);\n",
       "  color: var(--sklearn-color-background);\n",
       "  text-decoration: none;\n",
       "}\n",
       "\n",
       "/* Span, style for the box shown on hovering the info icon */\n",
       ".sk-estimator-doc-link span {\n",
       "  display: none;\n",
       "  z-index: 9999;\n",
       "  position: relative;\n",
       "  font-weight: normal;\n",
       "  right: .2ex;\n",
       "  padding: .5ex;\n",
       "  margin: .5ex;\n",
       "  width: min-content;\n",
       "  min-width: 20ex;\n",
       "  max-width: 50ex;\n",
       "  color: var(--sklearn-color-text);\n",
       "  box-shadow: 2pt 2pt 4pt #999;\n",
       "  /* unfitted */\n",
       "  background: var(--sklearn-color-unfitted-level-0);\n",
       "  border: .5pt solid var(--sklearn-color-unfitted-level-3);\n",
       "}\n",
       "\n",
       ".sk-estimator-doc-link.fitted span {\n",
       "  /* fitted */\n",
       "  background: var(--sklearn-color-fitted-level-0);\n",
       "  border: var(--sklearn-color-fitted-level-3);\n",
       "}\n",
       "\n",
       ".sk-estimator-doc-link:hover span {\n",
       "  display: block;\n",
       "}\n",
       "\n",
       "/* \"?\"-specific style due to the `<a>` HTML tag */\n",
       "\n",
       "#sk-container-id-10 a.estimator_doc_link {\n",
       "  float: right;\n",
       "  font-size: 1rem;\n",
       "  line-height: 1em;\n",
       "  font-family: monospace;\n",
       "  background-color: var(--sklearn-color-background);\n",
       "  border-radius: 1rem;\n",
       "  height: 1rem;\n",
       "  width: 1rem;\n",
       "  text-decoration: none;\n",
       "  /* unfitted */\n",
       "  color: var(--sklearn-color-unfitted-level-1);\n",
       "  border: var(--sklearn-color-unfitted-level-1) 1pt solid;\n",
       "}\n",
       "\n",
       "#sk-container-id-10 a.estimator_doc_link.fitted {\n",
       "  /* fitted */\n",
       "  border: var(--sklearn-color-fitted-level-1) 1pt solid;\n",
       "  color: var(--sklearn-color-fitted-level-1);\n",
       "}\n",
       "\n",
       "/* On hover */\n",
       "#sk-container-id-10 a.estimator_doc_link:hover {\n",
       "  /* unfitted */\n",
       "  background-color: var(--sklearn-color-unfitted-level-3);\n",
       "  color: var(--sklearn-color-background);\n",
       "  text-decoration: none;\n",
       "}\n",
       "\n",
       "#sk-container-id-10 a.estimator_doc_link.fitted:hover {\n",
       "  /* fitted */\n",
       "  background-color: var(--sklearn-color-fitted-level-3);\n",
       "}\n",
       "</style><div id=\"sk-container-id-10\" class=\"sk-top-container\"><div class=\"sk-text-repr-fallback\"><pre>LinearRegression()</pre><b>In a Jupyter environment, please rerun this cell to show the HTML representation or trust the notebook. <br />On GitHub, the HTML representation is unable to render, please try loading this page with nbviewer.org.</b></div><div class=\"sk-container\" hidden><div class=\"sk-item\"><div class=\"sk-estimator fitted sk-toggleable\"><input class=\"sk-toggleable__control sk-hidden--visually\" id=\"sk-estimator-id-10\" type=\"checkbox\" checked><label for=\"sk-estimator-id-10\" class=\"sk-toggleable__label fitted sk-toggleable__label-arrow\"><div><div>LinearRegression</div></div><div><a class=\"sk-estimator-doc-link fitted\" rel=\"noreferrer\" target=\"_blank\" href=\"https://scikit-learn.org/1.6/modules/generated/sklearn.linear_model.LinearRegression.html\">?<span>Documentation for LinearRegression</span></a><span class=\"sk-estimator-doc-link fitted\">i<span>Fitted</span></span></div></label><div class=\"sk-toggleable__content fitted\"><pre>LinearRegression()</pre></div> </div></div></div></div>"
      ],
      "text/plain": [
       "LinearRegression()"
      ]
     },
     "execution_count": 168,
     "metadata": {},
     "output_type": "execute_result"
    }
   ],
   "source": [
    "### Training the model\n",
    "lin_reg.fit(x_train, y_train)"
   ]
  },
  {
   "cell_type": "code",
   "execution_count": 169,
   "metadata": {},
   "outputs": [],
   "source": [
    "### Predict the values\n",
    "y_pred = lin_reg.predict(x_test)"
   ]
  },
  {
   "cell_type": "code",
   "execution_count": 170,
   "metadata": {},
   "outputs": [
    {
     "name": "stdout",
     "output_type": "stream",
     "text": [
      "Mean Squared Error:  2.6690120403696858\n",
      "Mean Absolute Error:  1.3202422115165438\n",
      "Root Mean Squared Error:  1.6337111251288232\n"
     ]
    }
   ],
   "source": [
    "### Performance metrics\n",
    "from sklearn.metrics import  mean_squared_error, mean_absolute_error\n",
    "mse = mean_squared_error(y_test, y_pred)\n",
    "mae = mean_absolute_error(y_test, y_pred)\n",
    "rmse = np.sqrt(mse)\n",
    "\n",
    "print(\"Mean Squared Error: \", mse)\n",
    "print(\"Mean Absolute Error: \", mae)\n",
    "print(\"Root Mean Squared Error: \", rmse)"
   ]
  },
  {
   "cell_type": "code",
   "execution_count": 171,
   "metadata": {},
   "outputs": [],
   "source": [
    "### R squared\n",
    "\n",
    "from sklearn.metrics import r2_score"
   ]
  },
  {
   "cell_type": "code",
   "execution_count": 172,
   "metadata": {},
   "outputs": [
    {
     "data": {
      "text/plain": [
       "0.7671327299498326"
      ]
     },
     "execution_count": 172,
     "metadata": {},
     "output_type": "execute_result"
    }
   ],
   "source": [
    "score = r2_score(y_test, y_pred)\n",
    "score"
   ]
  },
  {
   "cell_type": "code",
   "execution_count": 173,
   "metadata": {},
   "outputs": [
    {
     "data": {
      "text/plain": [
       "Text(0, 0.5, 'Y')"
      ]
     },
     "execution_count": 173,
     "metadata": {},
     "output_type": "execute_result"
    },
    {
     "data": {
      "image/png": "[encoded data removed]",
      "text/plain": [
       "<Figure size 640x480 with 1 Axes>"
      ]
     },
     "metadata": {},
     "output_type": "display_data"
    }
   ],
   "source": [
    "### Visualize the model \n",
    "plt.plot(x_train, lin_reg.predict(x_train), color='r')\n",
    "plt.scatter(x_train, y_train)\n",
    "plt.xlabel(\"X Dataset\")\n",
    "plt.ylabel(\"Y\")"
   ]
  },
  {
   "cell_type": "markdown",
   "metadata": {},
   "source": [
    "#### Polynomial Regression"
   ]
  },
  {
   "cell_type": "code",
   "execution_count": 174,
   "metadata": {},
   "outputs": [],
   "source": [
    "from sklearn.preprocessing import PolynomialFeatures"
   ]
  },
  {
   "cell_type": "code",
   "execution_count": 175,
   "metadata": {},
   "outputs": [],
   "source": [
    "### Include bias means we also consider `a` for y = a + bx + cx^2\n",
    "poly = PolynomialFeatures(degree=2, include_bias=True)\n",
    "x_train_poly = poly.fit_transform(x_train)\n",
    "x_test_poly = poly.transform(x_test)"
   ]
  },
  {
   "cell_type": "code",
   "execution_count": 176,
   "metadata": {},
   "outputs": [
    {
     "data": {
      "text/plain": [
       "array([[ 1.        ,  3.89771218, 15.19216022],\n",
       "       [ 1.        , -1.30993549,  1.71593099],\n",
       "       [ 1.        , -1.06701479,  1.13852057],\n",
       "       [ 1.        ,  1.41755303,  2.00945661],\n",
       "       [ 1.        ,  0.13317361,  0.01773521],\n",
       "       [ 1.        ,  2.6592667 ,  7.07169938],\n",
       "       [ 1.        ,  2.63943875,  6.96663694],\n",
       "       [ 1.        ,  0.58112032,  0.33770083],\n",
       "       [ 1.        ,  1.91700376,  3.6749034 ],\n",
       "       [ 1.        , -0.83379824,  0.6952195 ],\n",
       "       [ 1.        , -1.01703388,  1.03435791],\n",
       "       [ 1.        , -1.99526369,  3.9810772 ],\n",
       "       [ 1.        , -1.67143825,  2.79370584],\n",
       "       [ 1.        ,  2.71317365,  7.36131128],\n",
       "       [ 1.        ,  3.88945997, 15.12789887],\n",
       "       [ 1.        , -0.39489273,  0.15594026],\n",
       "       [ 1.        ,  2.34046103,  5.47775782],\n",
       "       [ 1.        , -0.74163914,  0.55002861],\n",
       "       [ 1.        , -0.52434231,  0.27493485],\n",
       "       [ 1.        ,  0.71334278,  0.50885792],\n",
       "       [ 1.        ,  1.61167006,  2.59748038],\n",
       "       [ 1.        ,  3.58154464, 12.82746202],\n",
       "       [ 1.        , -1.47182956,  2.16628225],\n",
       "       [ 1.        ,  3.04444481,  9.26864419],\n",
       "       [ 1.        ,  0.51853674,  0.26888035],\n",
       "       [ 1.        ,  1.59620591,  2.5478733 ],\n",
       "       [ 1.        , -0.87094036,  0.75853711],\n",
       "       [ 1.        , -1.31136976,  1.71969065],\n",
       "       [ 1.        ,  2.86754281,  8.22280179],\n",
       "       [ 1.        , -0.57325313,  0.32861915],\n",
       "       [ 1.        ,  3.57211357, 12.75999538],\n",
       "       [ 1.        ,  3.73952328, 13.98403435],\n",
       "       [ 1.        ,  2.94867204,  8.6946668 ],\n",
       "       [ 1.        , -0.69272855,  0.47987284],\n",
       "       [ 1.        ,  0.60575151,  0.36693489],\n",
       "       [ 1.        ,  3.22506325, 10.40103295],\n",
       "       [ 1.        , -0.71427149,  0.51018377],\n",
       "       [ 1.        ,  3.58257016, 12.83480895],\n",
       "       [ 1.        ,  2.75730081,  7.60270776],\n",
       "       [ 1.        ,  2.96090064,  8.76693262],\n",
       "       [ 1.        ,  3.35765193, 11.27382649],\n",
       "       [ 1.        , -1.1783527 ,  1.38851509],\n",
       "       [ 1.        ,  1.8515597 ,  3.42827334],\n",
       "       [ 1.        , -1.05200645,  1.10671758],\n",
       "       [ 1.        ,  0.30325732,  0.091965  ],\n",
       "       [ 1.        , -0.26317005,  0.06925848],\n",
       "       [ 1.        , -0.56481848,  0.31901992],\n",
       "       [ 1.        ,  2.97664907,  8.86043971],\n",
       "       [ 1.        ,  2.78738303,  7.76950417],\n",
       "       [ 1.        ,  2.9057431 ,  8.44334296],\n",
       "       [ 1.        ,  1.47678992,  2.18090848],\n",
       "       [ 1.        ,  3.32664963, 11.06659776],\n",
       "       [ 1.        ,  0.44529142,  0.19828445],\n",
       "       [ 1.        ,  3.14110308,  9.86652858],\n",
       "       [ 1.        , -0.82859521,  0.68657002],\n",
       "       [ 1.        , -0.70236565,  0.49331751],\n",
       "       [ 1.        ,  1.00729521,  1.01464364],\n",
       "       [ 1.        ,  2.83855228,  8.05737905],\n",
       "       [ 1.        , -0.47149134,  0.22230408],\n",
       "       [ 1.        ,  1.76940753,  3.13080302],\n",
       "       [ 1.        ,  2.88524869,  8.32466001],\n",
       "       [ 1.        ,  2.41292122,  5.82218883],\n",
       "       [ 1.        , -1.5940754 ,  2.54107637],\n",
       "       [ 1.        , -0.67596523,  0.45692899],\n",
       "       [ 1.        ,  2.31268699,  5.34852112],\n",
       "       [ 1.        ,  0.54878724,  0.30116744],\n",
       "       [ 1.        ,  1.99821812,  3.99287567],\n",
       "       [ 1.        ,  0.93265985,  0.8698544 ],\n",
       "       [ 1.        ,  1.29048257,  1.66534526],\n",
       "       [ 1.        , -0.78810446,  0.62110864],\n",
       "       [ 1.        ,  3.88667379, 15.10623319],\n",
       "       [ 1.        ,  3.89218617, 15.14911318],\n",
       "       [ 1.        ,  3.45237347, 11.91888258],\n",
       "       [ 1.        , -0.51527384,  0.26550713],\n",
       "       [ 1.        , -0.52267177,  0.27318578],\n",
       "       [ 1.        ,  1.64896009,  2.71906936],\n",
       "       [ 1.        ,  3.48645201, 12.15534765],\n",
       "       [ 1.        ,  2.64397135,  6.99058449],\n",
       "       [ 1.        ,  2.6447694 ,  6.99480518],\n",
       "       [ 1.        ,  2.4927891 ,  6.21399748]])"
      ]
     },
     "execution_count": 176,
     "metadata": {},
     "output_type": "execute_result"
    }
   ],
   "source": [
    "x_train_poly"
   ]
  },
  {
   "cell_type": "code",
   "execution_count": 177,
   "metadata": {},
   "outputs": [
    {
     "data": {
      "text/plain": [
       "array([[ 1.        ,  3.42405456, 11.72414963],\n",
       "       [ 1.        , -1.61026952,  2.59296792],\n",
       "       [ 1.        ,  1.52591378,  2.32841287],\n",
       "       [ 1.        ,  2.02941533,  4.11852658],\n",
       "       [ 1.        , -1.99900962,  3.99603944],\n",
       "       [ 1.        , -0.49063432,  0.24072204],\n",
       "       [ 1.        ,  1.2076136 ,  1.4583306 ],\n",
       "       [ 1.        , -0.76295056,  0.58209356],\n",
       "       [ 1.        ,  0.52516197,  0.27579509],\n",
       "       [ 1.        , -0.46535058,  0.21655117],\n",
       "       [ 1.        ,  3.32785122, 11.07459371],\n",
       "       [ 1.        ,  1.97167735,  3.88751158],\n",
       "       [ 1.        ,  0.3790927 ,  0.14371128],\n",
       "       [ 1.        , -0.35884817,  0.12877201],\n",
       "       [ 1.        , -1.64304566,  2.69959904],\n",
       "       [ 1.        , -1.55374551,  2.4141251 ],\n",
       "       [ 1.        , -0.11141004,  0.0124122 ],\n",
       "       [ 1.        , -0.88025642,  0.77485136],\n",
       "       [ 1.        ,  1.94563357,  3.78549   ],\n",
       "       [ 1.        , -0.94927367,  0.9011205 ]])"
      ]
     },
     "execution_count": 177,
     "metadata": {},
     "output_type": "execute_result"
    }
   ],
   "source": [
    "x_test_poly"
   ]
  },
  {
   "cell_type": "code",
   "execution_count": 178,
   "metadata": {},
   "outputs": [
    {
     "data": {
      "text/plain": [
       "0.8615878844444076"
      ]
     },
     "execution_count": 178,
     "metadata": {},
     "output_type": "execute_result"
    }
   ],
   "source": [
    "### Now perform the linear regression on this\n",
    "\n",
    "regression = LinearRegression()\n",
    "regression.fit(x_train_poly, y_train)\n",
    "y_pred_poly = regression.predict(x_test_poly)\n",
    "score_poly = r2_score(y_test, y_pred_poly)\n",
    "score_poly"
   ]
  },
  {
   "cell_type": "code",
   "execution_count": 179,
   "metadata": {},
   "outputs": [
    {
     "data": {
      "text/plain": [
       "array([[0.        , 0.84118631, 0.53103785]])"
      ]
     },
     "execution_count": 179,
     "metadata": {},
     "output_type": "execute_result"
    }
   ],
   "source": [
    "regression.coef_"
   ]
  },
  {
   "cell_type": "code",
   "execution_count": 180,
   "metadata": {},
   "outputs": [
    {
     "data": {
      "text/plain": [
       "array([2.02089081])"
      ]
     },
     "execution_count": 180,
     "metadata": {},
     "output_type": "execute_result"
    }
   ],
   "source": [
    "regression.intercept_"
   ]
  },
  {
   "cell_type": "code",
   "execution_count": 182,
   "metadata": {},
   "outputs": [
    {
     "data": {
      "text/plain": [
       "<matplotlib.collections.PathCollection at 0x1ee5b91f340>"
      ]
     },
     "execution_count": 182,
     "metadata": {},
     "output_type": "execute_result"
    },
    {
     "data": {
      "image/png": "[encoded data removed]",
      "text/plain": [
       "<Figure size 640x480 with 1 Axes>"
      ]
     },
     "metadata": {},
     "output_type": "display_data"
    }
   ],
   "source": [
    "plt.scatter(x_train, regression.predict(x_train_poly))\n",
    "plt.scatter(x_train, y_train)"
   ]
  },
  {
   "cell_type": "code",
   "execution_count": null,
   "metadata": {},
   "outputs": [],
   "source": []
  }
 ],
 "metadata": {
  "kernelspec": {
   "display_name": "Python 3",
   "language": "python",
   "name": "python3"
  },
  "language_info": {
   "codemirror_mode": {
    "name": "ipython",
    "version": 3
   },
   "file_extension": ".py",
   "mimetype": "text/x-python",
   "name": "python",
   "nbconvert_exporter": "python",
   "pygments_lexer": "ipython3",
   "version": "3.10.16"
  }
 },
 "nbformat": 4,
 "nbformat_minor": 2
}
